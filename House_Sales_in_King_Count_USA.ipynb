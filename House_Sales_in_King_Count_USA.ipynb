{
  "cells": [
    {
      "cell_type": "markdown",
      "metadata": {
        "id": "view-in-github",
        "colab_type": "text"
      },
      "source": [
        "<a href=\"https://colab.research.google.com/github/karthik5811/DataAnalysis-Python/blob/main/House_Sales_in_King_Count_USA.ipynb\" target=\"_parent\"><img src=\"https://colab.research.google.com/assets/colab-badge.svg\" alt=\"Open In Colab\"/></a>"
      ]
    },
    {
      "cell_type": "markdown",
      "metadata": {
        "id": "7uFqvkuKah55"
      },
      "source": [
        "<p style=\"text-align:center\">\n",
        "    <a href=\"https://skills.network/?utm_medium=Exinfluencer&utm_source=Exinfluencer&utm_content=000026UJ&utm_term=10006555&utm_id=NA-SkillsNetwork-Channel-SkillsNetworkCoursesIBMDeveloperSkillsNetworkDA0101ENSkillsNetwork20235326-2022-01-01\" target=\"_blank\">\n",
        "    <img src=\"https://cf-courses-data.s3.us.cloud-object-storage.appdomain.cloud/assets/logos/SN_web_lightmode.png\" width=\"200\" alt=\"Skills Network Logo\"  />\n",
        "    </a>\n",
        "</p>\n",
        "\n",
        "<h1 align=center><font size = 5>Data Analysis with Python</font></h1>\n"
      ]
    },
    {
      "cell_type": "markdown",
      "metadata": {
        "id": "tz-DCfm5ah57"
      },
      "source": [
        "# House Sales in King County, USA\n"
      ]
    },
    {
      "cell_type": "markdown",
      "metadata": {
        "id": "6Thbnlvcah58"
      },
      "source": [
        "This dataset contains house sale prices for King County, which includes Seattle. It includes homes sold between May 2014 and May 2015.\n"
      ]
    },
    {
      "cell_type": "markdown",
      "metadata": {
        "id": "Xd0cRhMUah58"
      },
      "source": [
        "| Variable      | Description                                                                                                 |\n",
        "| ------------- | ----------------------------------------------------------------------------------------------------------- |\n",
        "| id            | A notation for a house                                                                                      |\n",
        "| date          | Date house was sold                                                                                         |\n",
        "| price         | Price is prediction target                                                                                  |\n",
        "| bedrooms      | Number of bedrooms                                                                                          |\n",
        "| bathrooms     | Number of bathrooms                                                                                         |\n",
        "| sqft_living   | Square footage of the home                                                                                  |\n",
        "| sqft_lot      | Square footage of the lot                                                                                   |\n",
        "| floors        | Total floors (levels) in house                                                                              |\n",
        "| waterfront    | House which has a view to a waterfront                                                                      |\n",
        "| view          | Has been viewed                                                                                             |\n",
        "| condition     | How good the condition is overall                                                                           |\n",
        "| grade         | overall grade given to the housing unit, based on King County grading system                                |\n",
        "| sqft_above    | Square footage of house apart from basement                                                                 |\n",
        "| sqft_basement | Square footage of the basement                                                                              |\n",
        "| yr_built      | Built Year                                                                                                  |\n",
        "| yr_renovated  | Year when house was renovated                                                                               |\n",
        "| zipcode       | Zip code                                                                                                    |\n",
        "| lat           | Latitude coordinate                                                                                         |\n",
        "| long          | Longitude coordinate                                                                                        |\n",
        "| sqft_living15 | Living room area in 2015(implies-- some renovations) This might or might not have affected the lotsize area |\n",
        "| sqft_lot15    | LotSize area in 2015(implies-- some renovations)                                                            |\n"
      ]
    },
    {
      "cell_type": "code",
      "execution_count": 1,
      "metadata": {
        "colab": {
          "base_uri": "https://localhost:8080/"
        },
        "id": "rrh4gw3Oah59",
        "outputId": "76a9476c-673e-4e9a-fcf3-cb6e434220ef"
      },
      "outputs": [
        {
          "output_type": "stream",
          "name": "stdout",
          "text": [
            "Requirement already satisfied: scikit-learn in /usr/local/lib/python3.10/dist-packages (1.2.2)\n",
            "Collecting scikit-learn\n",
            "  Downloading scikit_learn-1.3.1-cp310-cp310-manylinux_2_17_x86_64.manylinux2014_x86_64.whl (10.8 MB)\n",
            "\u001b[2K     \u001b[90m━━━━━━━━━━━━━━━━━━━━━━━━━━━━━━━━━━━━━━━━\u001b[0m \u001b[32m10.8/10.8 MB\u001b[0m \u001b[31m38.1 MB/s\u001b[0m eta \u001b[36m0:00:00\u001b[0m\n",
            "\u001b[?25hRequirement already satisfied: numpy<2.0,>=1.17.3 in /usr/local/lib/python3.10/dist-packages (from scikit-learn) (1.23.5)\n",
            "Requirement already satisfied: scipy>=1.5.0 in /usr/local/lib/python3.10/dist-packages (from scikit-learn) (1.11.2)\n",
            "Requirement already satisfied: joblib>=1.1.1 in /usr/local/lib/python3.10/dist-packages (from scikit-learn) (1.3.2)\n",
            "Requirement already satisfied: threadpoolctl>=2.0.0 in /usr/local/lib/python3.10/dist-packages (from scikit-learn) (3.2.0)\n",
            "Installing collected packages: scikit-learn\n",
            "Successfully installed scikit-learn-1.3.1\n"
          ]
        }
      ],
      "source": [
        "#After executing the below command restart the kernel and run all cells.\n",
        "!pip3 install scikit-learn --upgrade --user"
      ]
    },
    {
      "cell_type": "markdown",
      "metadata": {
        "id": "ukGaeoBKah5_"
      },
      "source": [
        "You will require the following libraries:\n"
      ]
    },
    {
      "cell_type": "code",
      "execution_count": 2,
      "metadata": {
        "id": "aIHq3R4Vah5_"
      },
      "outputs": [],
      "source": [
        "import pandas as pd\n",
        "import matplotlib.pyplot as plt\n",
        "import numpy as np\n",
        "import seaborn as sns\n",
        "from sklearn.pipeline import Pipeline\n",
        "from sklearn.preprocessing import StandardScaler,PolynomialFeatures\n",
        "from sklearn.linear_model import LinearRegression\n",
        "%matplotlib inline"
      ]
    },
    {
      "cell_type": "markdown",
      "metadata": {
        "id": "el5WzP9Zah5_"
      },
      "source": [
        "# Module 1: Importing Data Sets\n"
      ]
    },
    {
      "cell_type": "markdown",
      "metadata": {
        "id": "bCYjDeWkah5_"
      },
      "source": [
        "Load the csv:\n"
      ]
    },
    {
      "cell_type": "code",
      "execution_count": 3,
      "metadata": {
        "jupyter": {
          "outputs_hidden": false
        },
        "id": "Qah1dYeRah5_"
      },
      "outputs": [],
      "source": [
        "file_name='https://cf-courses-data.s3.us.cloud-object-storage.appdomain.cloud/IBMDeveloperSkillsNetwork-DA0101EN-SkillsNetwork/labs/FinalModule_Coursera/data/kc_house_data_NaN.csv'\n",
        "df=pd.read_csv(file_name)"
      ]
    },
    {
      "cell_type": "markdown",
      "metadata": {
        "id": "2QA2ux6qah6A"
      },
      "source": [
        "We use the method <code>head</code> to display the first 5 columns of the dataframe.\n"
      ]
    },
    {
      "cell_type": "code",
      "execution_count": 4,
      "metadata": {
        "colab": {
          "base_uri": "https://localhost:8080/",
          "height": 273
        },
        "id": "kahgsOp9ah6A",
        "outputId": "f2fa66fa-22ec-4c45-d2f4-e1e9ac894948"
      },
      "outputs": [
        {
          "output_type": "execute_result",
          "data": {
            "text/plain": [
              "   Unnamed: 0          id             date     price  bedrooms  bathrooms  \\\n",
              "0           0  7129300520  20141013T000000  221900.0       3.0       1.00   \n",
              "1           1  6414100192  20141209T000000  538000.0       3.0       2.25   \n",
              "2           2  5631500400  20150225T000000  180000.0       2.0       1.00   \n",
              "3           3  2487200875  20141209T000000  604000.0       4.0       3.00   \n",
              "4           4  1954400510  20150218T000000  510000.0       3.0       2.00   \n",
              "\n",
              "   sqft_living  sqft_lot  floors  waterfront  ...  grade  sqft_above  \\\n",
              "0         1180      5650     1.0           0  ...      7        1180   \n",
              "1         2570      7242     2.0           0  ...      7        2170   \n",
              "2          770     10000     1.0           0  ...      6         770   \n",
              "3         1960      5000     1.0           0  ...      7        1050   \n",
              "4         1680      8080     1.0           0  ...      8        1680   \n",
              "\n",
              "   sqft_basement  yr_built  yr_renovated  zipcode      lat     long  \\\n",
              "0              0      1955             0    98178  47.5112 -122.257   \n",
              "1            400      1951          1991    98125  47.7210 -122.319   \n",
              "2              0      1933             0    98028  47.7379 -122.233   \n",
              "3            910      1965             0    98136  47.5208 -122.393   \n",
              "4              0      1987             0    98074  47.6168 -122.045   \n",
              "\n",
              "   sqft_living15  sqft_lot15  \n",
              "0           1340        5650  \n",
              "1           1690        7639  \n",
              "2           2720        8062  \n",
              "3           1360        5000  \n",
              "4           1800        7503  \n",
              "\n",
              "[5 rows x 22 columns]"
            ],
            "text/html": [
              "\n",
              "  <div id=\"df-dbf65e2e-447f-4ff4-baad-06919aecb919\" class=\"colab-df-container\">\n",
              "    <div>\n",
              "<style scoped>\n",
              "    .dataframe tbody tr th:only-of-type {\n",
              "        vertical-align: middle;\n",
              "    }\n",
              "\n",
              "    .dataframe tbody tr th {\n",
              "        vertical-align: top;\n",
              "    }\n",
              "\n",
              "    .dataframe thead th {\n",
              "        text-align: right;\n",
              "    }\n",
              "</style>\n",
              "<table border=\"1\" class=\"dataframe\">\n",
              "  <thead>\n",
              "    <tr style=\"text-align: right;\">\n",
              "      <th></th>\n",
              "      <th>Unnamed: 0</th>\n",
              "      <th>id</th>\n",
              "      <th>date</th>\n",
              "      <th>price</th>\n",
              "      <th>bedrooms</th>\n",
              "      <th>bathrooms</th>\n",
              "      <th>sqft_living</th>\n",
              "      <th>sqft_lot</th>\n",
              "      <th>floors</th>\n",
              "      <th>waterfront</th>\n",
              "      <th>...</th>\n",
              "      <th>grade</th>\n",
              "      <th>sqft_above</th>\n",
              "      <th>sqft_basement</th>\n",
              "      <th>yr_built</th>\n",
              "      <th>yr_renovated</th>\n",
              "      <th>zipcode</th>\n",
              "      <th>lat</th>\n",
              "      <th>long</th>\n",
              "      <th>sqft_living15</th>\n",
              "      <th>sqft_lot15</th>\n",
              "    </tr>\n",
              "  </thead>\n",
              "  <tbody>\n",
              "    <tr>\n",
              "      <th>0</th>\n",
              "      <td>0</td>\n",
              "      <td>7129300520</td>\n",
              "      <td>20141013T000000</td>\n",
              "      <td>221900.0</td>\n",
              "      <td>3.0</td>\n",
              "      <td>1.00</td>\n",
              "      <td>1180</td>\n",
              "      <td>5650</td>\n",
              "      <td>1.0</td>\n",
              "      <td>0</td>\n",
              "      <td>...</td>\n",
              "      <td>7</td>\n",
              "      <td>1180</td>\n",
              "      <td>0</td>\n",
              "      <td>1955</td>\n",
              "      <td>0</td>\n",
              "      <td>98178</td>\n",
              "      <td>47.5112</td>\n",
              "      <td>-122.257</td>\n",
              "      <td>1340</td>\n",
              "      <td>5650</td>\n",
              "    </tr>\n",
              "    <tr>\n",
              "      <th>1</th>\n",
              "      <td>1</td>\n",
              "      <td>6414100192</td>\n",
              "      <td>20141209T000000</td>\n",
              "      <td>538000.0</td>\n",
              "      <td>3.0</td>\n",
              "      <td>2.25</td>\n",
              "      <td>2570</td>\n",
              "      <td>7242</td>\n",
              "      <td>2.0</td>\n",
              "      <td>0</td>\n",
              "      <td>...</td>\n",
              "      <td>7</td>\n",
              "      <td>2170</td>\n",
              "      <td>400</td>\n",
              "      <td>1951</td>\n",
              "      <td>1991</td>\n",
              "      <td>98125</td>\n",
              "      <td>47.7210</td>\n",
              "      <td>-122.319</td>\n",
              "      <td>1690</td>\n",
              "      <td>7639</td>\n",
              "    </tr>\n",
              "    <tr>\n",
              "      <th>2</th>\n",
              "      <td>2</td>\n",
              "      <td>5631500400</td>\n",
              "      <td>20150225T000000</td>\n",
              "      <td>180000.0</td>\n",
              "      <td>2.0</td>\n",
              "      <td>1.00</td>\n",
              "      <td>770</td>\n",
              "      <td>10000</td>\n",
              "      <td>1.0</td>\n",
              "      <td>0</td>\n",
              "      <td>...</td>\n",
              "      <td>6</td>\n",
              "      <td>770</td>\n",
              "      <td>0</td>\n",
              "      <td>1933</td>\n",
              "      <td>0</td>\n",
              "      <td>98028</td>\n",
              "      <td>47.7379</td>\n",
              "      <td>-122.233</td>\n",
              "      <td>2720</td>\n",
              "      <td>8062</td>\n",
              "    </tr>\n",
              "    <tr>\n",
              "      <th>3</th>\n",
              "      <td>3</td>\n",
              "      <td>2487200875</td>\n",
              "      <td>20141209T000000</td>\n",
              "      <td>604000.0</td>\n",
              "      <td>4.0</td>\n",
              "      <td>3.00</td>\n",
              "      <td>1960</td>\n",
              "      <td>5000</td>\n",
              "      <td>1.0</td>\n",
              "      <td>0</td>\n",
              "      <td>...</td>\n",
              "      <td>7</td>\n",
              "      <td>1050</td>\n",
              "      <td>910</td>\n",
              "      <td>1965</td>\n",
              "      <td>0</td>\n",
              "      <td>98136</td>\n",
              "      <td>47.5208</td>\n",
              "      <td>-122.393</td>\n",
              "      <td>1360</td>\n",
              "      <td>5000</td>\n",
              "    </tr>\n",
              "    <tr>\n",
              "      <th>4</th>\n",
              "      <td>4</td>\n",
              "      <td>1954400510</td>\n",
              "      <td>20150218T000000</td>\n",
              "      <td>510000.0</td>\n",
              "      <td>3.0</td>\n",
              "      <td>2.00</td>\n",
              "      <td>1680</td>\n",
              "      <td>8080</td>\n",
              "      <td>1.0</td>\n",
              "      <td>0</td>\n",
              "      <td>...</td>\n",
              "      <td>8</td>\n",
              "      <td>1680</td>\n",
              "      <td>0</td>\n",
              "      <td>1987</td>\n",
              "      <td>0</td>\n",
              "      <td>98074</td>\n",
              "      <td>47.6168</td>\n",
              "      <td>-122.045</td>\n",
              "      <td>1800</td>\n",
              "      <td>7503</td>\n",
              "    </tr>\n",
              "  </tbody>\n",
              "</table>\n",
              "<p>5 rows × 22 columns</p>\n",
              "</div>\n",
              "    <div class=\"colab-df-buttons\">\n",
              "\n",
              "  <div class=\"colab-df-container\">\n",
              "    <button class=\"colab-df-convert\" onclick=\"convertToInteractive('df-dbf65e2e-447f-4ff4-baad-06919aecb919')\"\n",
              "            title=\"Convert this dataframe to an interactive table.\"\n",
              "            style=\"display:none;\">\n",
              "\n",
              "  <svg xmlns=\"http://www.w3.org/2000/svg\" height=\"24px\" viewBox=\"0 -960 960 960\">\n",
              "    <path d=\"M120-120v-720h720v720H120Zm60-500h600v-160H180v160Zm220 220h160v-160H400v160Zm0 220h160v-160H400v160ZM180-400h160v-160H180v160Zm440 0h160v-160H620v160ZM180-180h160v-160H180v160Zm440 0h160v-160H620v160Z\"/>\n",
              "  </svg>\n",
              "    </button>\n",
              "\n",
              "  <style>\n",
              "    .colab-df-container {\n",
              "      display:flex;\n",
              "      gap: 12px;\n",
              "    }\n",
              "\n",
              "    .colab-df-convert {\n",
              "      background-color: #E8F0FE;\n",
              "      border: none;\n",
              "      border-radius: 50%;\n",
              "      cursor: pointer;\n",
              "      display: none;\n",
              "      fill: #1967D2;\n",
              "      height: 32px;\n",
              "      padding: 0 0 0 0;\n",
              "      width: 32px;\n",
              "    }\n",
              "\n",
              "    .colab-df-convert:hover {\n",
              "      background-color: #E2EBFA;\n",
              "      box-shadow: 0px 1px 2px rgba(60, 64, 67, 0.3), 0px 1px 3px 1px rgba(60, 64, 67, 0.15);\n",
              "      fill: #174EA6;\n",
              "    }\n",
              "\n",
              "    .colab-df-buttons div {\n",
              "      margin-bottom: 4px;\n",
              "    }\n",
              "\n",
              "    [theme=dark] .colab-df-convert {\n",
              "      background-color: #3B4455;\n",
              "      fill: #D2E3FC;\n",
              "    }\n",
              "\n",
              "    [theme=dark] .colab-df-convert:hover {\n",
              "      background-color: #434B5C;\n",
              "      box-shadow: 0px 1px 3px 1px rgba(0, 0, 0, 0.15);\n",
              "      filter: drop-shadow(0px 1px 2px rgba(0, 0, 0, 0.3));\n",
              "      fill: #FFFFFF;\n",
              "    }\n",
              "  </style>\n",
              "\n",
              "    <script>\n",
              "      const buttonEl =\n",
              "        document.querySelector('#df-dbf65e2e-447f-4ff4-baad-06919aecb919 button.colab-df-convert');\n",
              "      buttonEl.style.display =\n",
              "        google.colab.kernel.accessAllowed ? 'block' : 'none';\n",
              "\n",
              "      async function convertToInteractive(key) {\n",
              "        const element = document.querySelector('#df-dbf65e2e-447f-4ff4-baad-06919aecb919');\n",
              "        const dataTable =\n",
              "          await google.colab.kernel.invokeFunction('convertToInteractive',\n",
              "                                                    [key], {});\n",
              "        if (!dataTable) return;\n",
              "\n",
              "        const docLinkHtml = 'Like what you see? Visit the ' +\n",
              "          '<a target=\"_blank\" href=https://colab.research.google.com/notebooks/data_table.ipynb>data table notebook</a>'\n",
              "          + ' to learn more about interactive tables.';\n",
              "        element.innerHTML = '';\n",
              "        dataTable['output_type'] = 'display_data';\n",
              "        await google.colab.output.renderOutput(dataTable, element);\n",
              "        const docLink = document.createElement('div');\n",
              "        docLink.innerHTML = docLinkHtml;\n",
              "        element.appendChild(docLink);\n",
              "      }\n",
              "    </script>\n",
              "  </div>\n",
              "\n",
              "\n",
              "<div id=\"df-9831ce68-2fcd-443f-a43e-21f424a3d743\">\n",
              "  <button class=\"colab-df-quickchart\" onclick=\"quickchart('df-9831ce68-2fcd-443f-a43e-21f424a3d743')\"\n",
              "            title=\"Suggest charts.\"\n",
              "            style=\"display:none;\">\n",
              "\n",
              "<svg xmlns=\"http://www.w3.org/2000/svg\" height=\"24px\"viewBox=\"0 0 24 24\"\n",
              "     width=\"24px\">\n",
              "    <g>\n",
              "        <path d=\"M19 3H5c-1.1 0-2 .9-2 2v14c0 1.1.9 2 2 2h14c1.1 0 2-.9 2-2V5c0-1.1-.9-2-2-2zM9 17H7v-7h2v7zm4 0h-2V7h2v10zm4 0h-2v-4h2v4z\"/>\n",
              "    </g>\n",
              "</svg>\n",
              "  </button>\n",
              "\n",
              "<style>\n",
              "  .colab-df-quickchart {\n",
              "      --bg-color: #E8F0FE;\n",
              "      --fill-color: #1967D2;\n",
              "      --hover-bg-color: #E2EBFA;\n",
              "      --hover-fill-color: #174EA6;\n",
              "      --disabled-fill-color: #AAA;\n",
              "      --disabled-bg-color: #DDD;\n",
              "  }\n",
              "\n",
              "  [theme=dark] .colab-df-quickchart {\n",
              "      --bg-color: #3B4455;\n",
              "      --fill-color: #D2E3FC;\n",
              "      --hover-bg-color: #434B5C;\n",
              "      --hover-fill-color: #FFFFFF;\n",
              "      --disabled-bg-color: #3B4455;\n",
              "      --disabled-fill-color: #666;\n",
              "  }\n",
              "\n",
              "  .colab-df-quickchart {\n",
              "    background-color: var(--bg-color);\n",
              "    border: none;\n",
              "    border-radius: 50%;\n",
              "    cursor: pointer;\n",
              "    display: none;\n",
              "    fill: var(--fill-color);\n",
              "    height: 32px;\n",
              "    padding: 0;\n",
              "    width: 32px;\n",
              "  }\n",
              "\n",
              "  .colab-df-quickchart:hover {\n",
              "    background-color: var(--hover-bg-color);\n",
              "    box-shadow: 0 1px 2px rgba(60, 64, 67, 0.3), 0 1px 3px 1px rgba(60, 64, 67, 0.15);\n",
              "    fill: var(--button-hover-fill-color);\n",
              "  }\n",
              "\n",
              "  .colab-df-quickchart-complete:disabled,\n",
              "  .colab-df-quickchart-complete:disabled:hover {\n",
              "    background-color: var(--disabled-bg-color);\n",
              "    fill: var(--disabled-fill-color);\n",
              "    box-shadow: none;\n",
              "  }\n",
              "\n",
              "  .colab-df-spinner {\n",
              "    border: 2px solid var(--fill-color);\n",
              "    border-color: transparent;\n",
              "    border-bottom-color: var(--fill-color);\n",
              "    animation:\n",
              "      spin 1s steps(1) infinite;\n",
              "  }\n",
              "\n",
              "  @keyframes spin {\n",
              "    0% {\n",
              "      border-color: transparent;\n",
              "      border-bottom-color: var(--fill-color);\n",
              "      border-left-color: var(--fill-color);\n",
              "    }\n",
              "    20% {\n",
              "      border-color: transparent;\n",
              "      border-left-color: var(--fill-color);\n",
              "      border-top-color: var(--fill-color);\n",
              "    }\n",
              "    30% {\n",
              "      border-color: transparent;\n",
              "      border-left-color: var(--fill-color);\n",
              "      border-top-color: var(--fill-color);\n",
              "      border-right-color: var(--fill-color);\n",
              "    }\n",
              "    40% {\n",
              "      border-color: transparent;\n",
              "      border-right-color: var(--fill-color);\n",
              "      border-top-color: var(--fill-color);\n",
              "    }\n",
              "    60% {\n",
              "      border-color: transparent;\n",
              "      border-right-color: var(--fill-color);\n",
              "    }\n",
              "    80% {\n",
              "      border-color: transparent;\n",
              "      border-right-color: var(--fill-color);\n",
              "      border-bottom-color: var(--fill-color);\n",
              "    }\n",
              "    90% {\n",
              "      border-color: transparent;\n",
              "      border-bottom-color: var(--fill-color);\n",
              "    }\n",
              "  }\n",
              "</style>\n",
              "\n",
              "  <script>\n",
              "    async function quickchart(key) {\n",
              "      const quickchartButtonEl =\n",
              "        document.querySelector('#' + key + ' button');\n",
              "      quickchartButtonEl.disabled = true;  // To prevent multiple clicks.\n",
              "      quickchartButtonEl.classList.add('colab-df-spinner');\n",
              "      try {\n",
              "        const charts = await google.colab.kernel.invokeFunction(\n",
              "            'suggestCharts', [key], {});\n",
              "      } catch (error) {\n",
              "        console.error('Error during call to suggestCharts:', error);\n",
              "      }\n",
              "      quickchartButtonEl.classList.remove('colab-df-spinner');\n",
              "      quickchartButtonEl.classList.add('colab-df-quickchart-complete');\n",
              "    }\n",
              "    (() => {\n",
              "      let quickchartButtonEl =\n",
              "        document.querySelector('#df-9831ce68-2fcd-443f-a43e-21f424a3d743 button');\n",
              "      quickchartButtonEl.style.display =\n",
              "        google.colab.kernel.accessAllowed ? 'block' : 'none';\n",
              "    })();\n",
              "  </script>\n",
              "</div>\n",
              "    </div>\n",
              "  </div>\n"
            ]
          },
          "metadata": {},
          "execution_count": 4
        }
      ],
      "source": [
        "df.head()"
      ]
    },
    {
      "cell_type": "markdown",
      "metadata": {
        "id": "k6Bgm-HNah6A"
      },
      "source": [
        "### Question 1\n",
        "\n",
        "Display the data types of each column using the function dtypes, then take a screenshot and submit it, include your code in the image.\n"
      ]
    },
    {
      "cell_type": "code",
      "execution_count": 5,
      "metadata": {
        "jupyter": {
          "outputs_hidden": false
        },
        "colab": {
          "base_uri": "https://localhost:8080/"
        },
        "id": "n0HbyQczah6A",
        "outputId": "b363809d-a185-4d34-d043-945c2409a716"
      },
      "outputs": [
        {
          "output_type": "execute_result",
          "data": {
            "text/plain": [
              "Unnamed: 0         int64\n",
              "id                 int64\n",
              "date              object\n",
              "price            float64\n",
              "bedrooms         float64\n",
              "bathrooms        float64\n",
              "sqft_living        int64\n",
              "sqft_lot           int64\n",
              "floors           float64\n",
              "waterfront         int64\n",
              "view               int64\n",
              "condition          int64\n",
              "grade              int64\n",
              "sqft_above         int64\n",
              "sqft_basement      int64\n",
              "yr_built           int64\n",
              "yr_renovated       int64\n",
              "zipcode            int64\n",
              "lat              float64\n",
              "long             float64\n",
              "sqft_living15      int64\n",
              "sqft_lot15         int64\n",
              "dtype: object"
            ]
          },
          "metadata": {},
          "execution_count": 5
        }
      ],
      "source": [
        "df.dtypes\n"
      ]
    },
    {
      "cell_type": "markdown",
      "metadata": {
        "id": "Omd2_Iz4ah6A"
      },
      "source": [
        "We use the method describe to obtain a statistical summary of the dataframe.\n"
      ]
    },
    {
      "cell_type": "code",
      "execution_count": 6,
      "metadata": {
        "jupyter": {
          "outputs_hidden": false
        },
        "colab": {
          "base_uri": "https://localhost:8080/",
          "height": 349
        },
        "id": "PJTIOy4Eah6B",
        "outputId": "2e487a5e-1057-41d7-861f-99265e92c0be"
      },
      "outputs": [
        {
          "output_type": "execute_result",
          "data": {
            "text/plain": [
              "        Unnamed: 0            id         price      bedrooms     bathrooms  \\\n",
              "count  21613.00000  2.161300e+04  2.161300e+04  21600.000000  21603.000000   \n",
              "mean   10806.00000  4.580302e+09  5.400881e+05      3.372870      2.115736   \n",
              "std     6239.28002  2.876566e+09  3.671272e+05      0.926657      0.768996   \n",
              "min        0.00000  1.000102e+06  7.500000e+04      1.000000      0.500000   \n",
              "25%     5403.00000  2.123049e+09  3.219500e+05      3.000000      1.750000   \n",
              "50%    10806.00000  3.904930e+09  4.500000e+05      3.000000      2.250000   \n",
              "75%    16209.00000  7.308900e+09  6.450000e+05      4.000000      2.500000   \n",
              "max    21612.00000  9.900000e+09  7.700000e+06     33.000000      8.000000   \n",
              "\n",
              "        sqft_living      sqft_lot        floors    waterfront          view  \\\n",
              "count  21613.000000  2.161300e+04  21613.000000  21613.000000  21613.000000   \n",
              "mean    2079.899736  1.510697e+04      1.494309      0.007542      0.234303   \n",
              "std      918.440897  4.142051e+04      0.539989      0.086517      0.766318   \n",
              "min      290.000000  5.200000e+02      1.000000      0.000000      0.000000   \n",
              "25%     1427.000000  5.040000e+03      1.000000      0.000000      0.000000   \n",
              "50%     1910.000000  7.618000e+03      1.500000      0.000000      0.000000   \n",
              "75%     2550.000000  1.068800e+04      2.000000      0.000000      0.000000   \n",
              "max    13540.000000  1.651359e+06      3.500000      1.000000      4.000000   \n",
              "\n",
              "       ...         grade    sqft_above  sqft_basement      yr_built  \\\n",
              "count  ...  21613.000000  21613.000000   21613.000000  21613.000000   \n",
              "mean   ...      7.656873   1788.390691     291.509045   1971.005136   \n",
              "std    ...      1.175459    828.090978     442.575043     29.373411   \n",
              "min    ...      1.000000    290.000000       0.000000   1900.000000   \n",
              "25%    ...      7.000000   1190.000000       0.000000   1951.000000   \n",
              "50%    ...      7.000000   1560.000000       0.000000   1975.000000   \n",
              "75%    ...      8.000000   2210.000000     560.000000   1997.000000   \n",
              "max    ...     13.000000   9410.000000    4820.000000   2015.000000   \n",
              "\n",
              "       yr_renovated       zipcode           lat          long  sqft_living15  \\\n",
              "count  21613.000000  21613.000000  21613.000000  21613.000000   21613.000000   \n",
              "mean      84.402258  98077.939805     47.560053   -122.213896    1986.552492   \n",
              "std      401.679240     53.505026      0.138564      0.140828     685.391304   \n",
              "min        0.000000  98001.000000     47.155900   -122.519000     399.000000   \n",
              "25%        0.000000  98033.000000     47.471000   -122.328000    1490.000000   \n",
              "50%        0.000000  98065.000000     47.571800   -122.230000    1840.000000   \n",
              "75%        0.000000  98118.000000     47.678000   -122.125000    2360.000000   \n",
              "max     2015.000000  98199.000000     47.777600   -121.315000    6210.000000   \n",
              "\n",
              "          sqft_lot15  \n",
              "count   21613.000000  \n",
              "mean    12768.455652  \n",
              "std     27304.179631  \n",
              "min       651.000000  \n",
              "25%      5100.000000  \n",
              "50%      7620.000000  \n",
              "75%     10083.000000  \n",
              "max    871200.000000  \n",
              "\n",
              "[8 rows x 21 columns]"
            ],
            "text/html": [
              "\n",
              "  <div id=\"df-c28179af-467a-4272-bdf9-c87c6112815a\" class=\"colab-df-container\">\n",
              "    <div>\n",
              "<style scoped>\n",
              "    .dataframe tbody tr th:only-of-type {\n",
              "        vertical-align: middle;\n",
              "    }\n",
              "\n",
              "    .dataframe tbody tr th {\n",
              "        vertical-align: top;\n",
              "    }\n",
              "\n",
              "    .dataframe thead th {\n",
              "        text-align: right;\n",
              "    }\n",
              "</style>\n",
              "<table border=\"1\" class=\"dataframe\">\n",
              "  <thead>\n",
              "    <tr style=\"text-align: right;\">\n",
              "      <th></th>\n",
              "      <th>Unnamed: 0</th>\n",
              "      <th>id</th>\n",
              "      <th>price</th>\n",
              "      <th>bedrooms</th>\n",
              "      <th>bathrooms</th>\n",
              "      <th>sqft_living</th>\n",
              "      <th>sqft_lot</th>\n",
              "      <th>floors</th>\n",
              "      <th>waterfront</th>\n",
              "      <th>view</th>\n",
              "      <th>...</th>\n",
              "      <th>grade</th>\n",
              "      <th>sqft_above</th>\n",
              "      <th>sqft_basement</th>\n",
              "      <th>yr_built</th>\n",
              "      <th>yr_renovated</th>\n",
              "      <th>zipcode</th>\n",
              "      <th>lat</th>\n",
              "      <th>long</th>\n",
              "      <th>sqft_living15</th>\n",
              "      <th>sqft_lot15</th>\n",
              "    </tr>\n",
              "  </thead>\n",
              "  <tbody>\n",
              "    <tr>\n",
              "      <th>count</th>\n",
              "      <td>21613.00000</td>\n",
              "      <td>2.161300e+04</td>\n",
              "      <td>2.161300e+04</td>\n",
              "      <td>21600.000000</td>\n",
              "      <td>21603.000000</td>\n",
              "      <td>21613.000000</td>\n",
              "      <td>2.161300e+04</td>\n",
              "      <td>21613.000000</td>\n",
              "      <td>21613.000000</td>\n",
              "      <td>21613.000000</td>\n",
              "      <td>...</td>\n",
              "      <td>21613.000000</td>\n",
              "      <td>21613.000000</td>\n",
              "      <td>21613.000000</td>\n",
              "      <td>21613.000000</td>\n",
              "      <td>21613.000000</td>\n",
              "      <td>21613.000000</td>\n",
              "      <td>21613.000000</td>\n",
              "      <td>21613.000000</td>\n",
              "      <td>21613.000000</td>\n",
              "      <td>21613.000000</td>\n",
              "    </tr>\n",
              "    <tr>\n",
              "      <th>mean</th>\n",
              "      <td>10806.00000</td>\n",
              "      <td>4.580302e+09</td>\n",
              "      <td>5.400881e+05</td>\n",
              "      <td>3.372870</td>\n",
              "      <td>2.115736</td>\n",
              "      <td>2079.899736</td>\n",
              "      <td>1.510697e+04</td>\n",
              "      <td>1.494309</td>\n",
              "      <td>0.007542</td>\n",
              "      <td>0.234303</td>\n",
              "      <td>...</td>\n",
              "      <td>7.656873</td>\n",
              "      <td>1788.390691</td>\n",
              "      <td>291.509045</td>\n",
              "      <td>1971.005136</td>\n",
              "      <td>84.402258</td>\n",
              "      <td>98077.939805</td>\n",
              "      <td>47.560053</td>\n",
              "      <td>-122.213896</td>\n",
              "      <td>1986.552492</td>\n",
              "      <td>12768.455652</td>\n",
              "    </tr>\n",
              "    <tr>\n",
              "      <th>std</th>\n",
              "      <td>6239.28002</td>\n",
              "      <td>2.876566e+09</td>\n",
              "      <td>3.671272e+05</td>\n",
              "      <td>0.926657</td>\n",
              "      <td>0.768996</td>\n",
              "      <td>918.440897</td>\n",
              "      <td>4.142051e+04</td>\n",
              "      <td>0.539989</td>\n",
              "      <td>0.086517</td>\n",
              "      <td>0.766318</td>\n",
              "      <td>...</td>\n",
              "      <td>1.175459</td>\n",
              "      <td>828.090978</td>\n",
              "      <td>442.575043</td>\n",
              "      <td>29.373411</td>\n",
              "      <td>401.679240</td>\n",
              "      <td>53.505026</td>\n",
              "      <td>0.138564</td>\n",
              "      <td>0.140828</td>\n",
              "      <td>685.391304</td>\n",
              "      <td>27304.179631</td>\n",
              "    </tr>\n",
              "    <tr>\n",
              "      <th>min</th>\n",
              "      <td>0.00000</td>\n",
              "      <td>1.000102e+06</td>\n",
              "      <td>7.500000e+04</td>\n",
              "      <td>1.000000</td>\n",
              "      <td>0.500000</td>\n",
              "      <td>290.000000</td>\n",
              "      <td>5.200000e+02</td>\n",
              "      <td>1.000000</td>\n",
              "      <td>0.000000</td>\n",
              "      <td>0.000000</td>\n",
              "      <td>...</td>\n",
              "      <td>1.000000</td>\n",
              "      <td>290.000000</td>\n",
              "      <td>0.000000</td>\n",
              "      <td>1900.000000</td>\n",
              "      <td>0.000000</td>\n",
              "      <td>98001.000000</td>\n",
              "      <td>47.155900</td>\n",
              "      <td>-122.519000</td>\n",
              "      <td>399.000000</td>\n",
              "      <td>651.000000</td>\n",
              "    </tr>\n",
              "    <tr>\n",
              "      <th>25%</th>\n",
              "      <td>5403.00000</td>\n",
              "      <td>2.123049e+09</td>\n",
              "      <td>3.219500e+05</td>\n",
              "      <td>3.000000</td>\n",
              "      <td>1.750000</td>\n",
              "      <td>1427.000000</td>\n",
              "      <td>5.040000e+03</td>\n",
              "      <td>1.000000</td>\n",
              "      <td>0.000000</td>\n",
              "      <td>0.000000</td>\n",
              "      <td>...</td>\n",
              "      <td>7.000000</td>\n",
              "      <td>1190.000000</td>\n",
              "      <td>0.000000</td>\n",
              "      <td>1951.000000</td>\n",
              "      <td>0.000000</td>\n",
              "      <td>98033.000000</td>\n",
              "      <td>47.471000</td>\n",
              "      <td>-122.328000</td>\n",
              "      <td>1490.000000</td>\n",
              "      <td>5100.000000</td>\n",
              "    </tr>\n",
              "    <tr>\n",
              "      <th>50%</th>\n",
              "      <td>10806.00000</td>\n",
              "      <td>3.904930e+09</td>\n",
              "      <td>4.500000e+05</td>\n",
              "      <td>3.000000</td>\n",
              "      <td>2.250000</td>\n",
              "      <td>1910.000000</td>\n",
              "      <td>7.618000e+03</td>\n",
              "      <td>1.500000</td>\n",
              "      <td>0.000000</td>\n",
              "      <td>0.000000</td>\n",
              "      <td>...</td>\n",
              "      <td>7.000000</td>\n",
              "      <td>1560.000000</td>\n",
              "      <td>0.000000</td>\n",
              "      <td>1975.000000</td>\n",
              "      <td>0.000000</td>\n",
              "      <td>98065.000000</td>\n",
              "      <td>47.571800</td>\n",
              "      <td>-122.230000</td>\n",
              "      <td>1840.000000</td>\n",
              "      <td>7620.000000</td>\n",
              "    </tr>\n",
              "    <tr>\n",
              "      <th>75%</th>\n",
              "      <td>16209.00000</td>\n",
              "      <td>7.308900e+09</td>\n",
              "      <td>6.450000e+05</td>\n",
              "      <td>4.000000</td>\n",
              "      <td>2.500000</td>\n",
              "      <td>2550.000000</td>\n",
              "      <td>1.068800e+04</td>\n",
              "      <td>2.000000</td>\n",
              "      <td>0.000000</td>\n",
              "      <td>0.000000</td>\n",
              "      <td>...</td>\n",
              "      <td>8.000000</td>\n",
              "      <td>2210.000000</td>\n",
              "      <td>560.000000</td>\n",
              "      <td>1997.000000</td>\n",
              "      <td>0.000000</td>\n",
              "      <td>98118.000000</td>\n",
              "      <td>47.678000</td>\n",
              "      <td>-122.125000</td>\n",
              "      <td>2360.000000</td>\n",
              "      <td>10083.000000</td>\n",
              "    </tr>\n",
              "    <tr>\n",
              "      <th>max</th>\n",
              "      <td>21612.00000</td>\n",
              "      <td>9.900000e+09</td>\n",
              "      <td>7.700000e+06</td>\n",
              "      <td>33.000000</td>\n",
              "      <td>8.000000</td>\n",
              "      <td>13540.000000</td>\n",
              "      <td>1.651359e+06</td>\n",
              "      <td>3.500000</td>\n",
              "      <td>1.000000</td>\n",
              "      <td>4.000000</td>\n",
              "      <td>...</td>\n",
              "      <td>13.000000</td>\n",
              "      <td>9410.000000</td>\n",
              "      <td>4820.000000</td>\n",
              "      <td>2015.000000</td>\n",
              "      <td>2015.000000</td>\n",
              "      <td>98199.000000</td>\n",
              "      <td>47.777600</td>\n",
              "      <td>-121.315000</td>\n",
              "      <td>6210.000000</td>\n",
              "      <td>871200.000000</td>\n",
              "    </tr>\n",
              "  </tbody>\n",
              "</table>\n",
              "<p>8 rows × 21 columns</p>\n",
              "</div>\n",
              "    <div class=\"colab-df-buttons\">\n",
              "\n",
              "  <div class=\"colab-df-container\">\n",
              "    <button class=\"colab-df-convert\" onclick=\"convertToInteractive('df-c28179af-467a-4272-bdf9-c87c6112815a')\"\n",
              "            title=\"Convert this dataframe to an interactive table.\"\n",
              "            style=\"display:none;\">\n",
              "\n",
              "  <svg xmlns=\"http://www.w3.org/2000/svg\" height=\"24px\" viewBox=\"0 -960 960 960\">\n",
              "    <path d=\"M120-120v-720h720v720H120Zm60-500h600v-160H180v160Zm220 220h160v-160H400v160Zm0 220h160v-160H400v160ZM180-400h160v-160H180v160Zm440 0h160v-160H620v160ZM180-180h160v-160H180v160Zm440 0h160v-160H620v160Z\"/>\n",
              "  </svg>\n",
              "    </button>\n",
              "\n",
              "  <style>\n",
              "    .colab-df-container {\n",
              "      display:flex;\n",
              "      gap: 12px;\n",
              "    }\n",
              "\n",
              "    .colab-df-convert {\n",
              "      background-color: #E8F0FE;\n",
              "      border: none;\n",
              "      border-radius: 50%;\n",
              "      cursor: pointer;\n",
              "      display: none;\n",
              "      fill: #1967D2;\n",
              "      height: 32px;\n",
              "      padding: 0 0 0 0;\n",
              "      width: 32px;\n",
              "    }\n",
              "\n",
              "    .colab-df-convert:hover {\n",
              "      background-color: #E2EBFA;\n",
              "      box-shadow: 0px 1px 2px rgba(60, 64, 67, 0.3), 0px 1px 3px 1px rgba(60, 64, 67, 0.15);\n",
              "      fill: #174EA6;\n",
              "    }\n",
              "\n",
              "    .colab-df-buttons div {\n",
              "      margin-bottom: 4px;\n",
              "    }\n",
              "\n",
              "    [theme=dark] .colab-df-convert {\n",
              "      background-color: #3B4455;\n",
              "      fill: #D2E3FC;\n",
              "    }\n",
              "\n",
              "    [theme=dark] .colab-df-convert:hover {\n",
              "      background-color: #434B5C;\n",
              "      box-shadow: 0px 1px 3px 1px rgba(0, 0, 0, 0.15);\n",
              "      filter: drop-shadow(0px 1px 2px rgba(0, 0, 0, 0.3));\n",
              "      fill: #FFFFFF;\n",
              "    }\n",
              "  </style>\n",
              "\n",
              "    <script>\n",
              "      const buttonEl =\n",
              "        document.querySelector('#df-c28179af-467a-4272-bdf9-c87c6112815a button.colab-df-convert');\n",
              "      buttonEl.style.display =\n",
              "        google.colab.kernel.accessAllowed ? 'block' : 'none';\n",
              "\n",
              "      async function convertToInteractive(key) {\n",
              "        const element = document.querySelector('#df-c28179af-467a-4272-bdf9-c87c6112815a');\n",
              "        const dataTable =\n",
              "          await google.colab.kernel.invokeFunction('convertToInteractive',\n",
              "                                                    [key], {});\n",
              "        if (!dataTable) return;\n",
              "\n",
              "        const docLinkHtml = 'Like what you see? Visit the ' +\n",
              "          '<a target=\"_blank\" href=https://colab.research.google.com/notebooks/data_table.ipynb>data table notebook</a>'\n",
              "          + ' to learn more about interactive tables.';\n",
              "        element.innerHTML = '';\n",
              "        dataTable['output_type'] = 'display_data';\n",
              "        await google.colab.output.renderOutput(dataTable, element);\n",
              "        const docLink = document.createElement('div');\n",
              "        docLink.innerHTML = docLinkHtml;\n",
              "        element.appendChild(docLink);\n",
              "      }\n",
              "    </script>\n",
              "  </div>\n",
              "\n",
              "\n",
              "<div id=\"df-e88c9949-db2d-43de-9fc8-6de0db777e82\">\n",
              "  <button class=\"colab-df-quickchart\" onclick=\"quickchart('df-e88c9949-db2d-43de-9fc8-6de0db777e82')\"\n",
              "            title=\"Suggest charts.\"\n",
              "            style=\"display:none;\">\n",
              "\n",
              "<svg xmlns=\"http://www.w3.org/2000/svg\" height=\"24px\"viewBox=\"0 0 24 24\"\n",
              "     width=\"24px\">\n",
              "    <g>\n",
              "        <path d=\"M19 3H5c-1.1 0-2 .9-2 2v14c0 1.1.9 2 2 2h14c1.1 0 2-.9 2-2V5c0-1.1-.9-2-2-2zM9 17H7v-7h2v7zm4 0h-2V7h2v10zm4 0h-2v-4h2v4z\"/>\n",
              "    </g>\n",
              "</svg>\n",
              "  </button>\n",
              "\n",
              "<style>\n",
              "  .colab-df-quickchart {\n",
              "      --bg-color: #E8F0FE;\n",
              "      --fill-color: #1967D2;\n",
              "      --hover-bg-color: #E2EBFA;\n",
              "      --hover-fill-color: #174EA6;\n",
              "      --disabled-fill-color: #AAA;\n",
              "      --disabled-bg-color: #DDD;\n",
              "  }\n",
              "\n",
              "  [theme=dark] .colab-df-quickchart {\n",
              "      --bg-color: #3B4455;\n",
              "      --fill-color: #D2E3FC;\n",
              "      --hover-bg-color: #434B5C;\n",
              "      --hover-fill-color: #FFFFFF;\n",
              "      --disabled-bg-color: #3B4455;\n",
              "      --disabled-fill-color: #666;\n",
              "  }\n",
              "\n",
              "  .colab-df-quickchart {\n",
              "    background-color: var(--bg-color);\n",
              "    border: none;\n",
              "    border-radius: 50%;\n",
              "    cursor: pointer;\n",
              "    display: none;\n",
              "    fill: var(--fill-color);\n",
              "    height: 32px;\n",
              "    padding: 0;\n",
              "    width: 32px;\n",
              "  }\n",
              "\n",
              "  .colab-df-quickchart:hover {\n",
              "    background-color: var(--hover-bg-color);\n",
              "    box-shadow: 0 1px 2px rgba(60, 64, 67, 0.3), 0 1px 3px 1px rgba(60, 64, 67, 0.15);\n",
              "    fill: var(--button-hover-fill-color);\n",
              "  }\n",
              "\n",
              "  .colab-df-quickchart-complete:disabled,\n",
              "  .colab-df-quickchart-complete:disabled:hover {\n",
              "    background-color: var(--disabled-bg-color);\n",
              "    fill: var(--disabled-fill-color);\n",
              "    box-shadow: none;\n",
              "  }\n",
              "\n",
              "  .colab-df-spinner {\n",
              "    border: 2px solid var(--fill-color);\n",
              "    border-color: transparent;\n",
              "    border-bottom-color: var(--fill-color);\n",
              "    animation:\n",
              "      spin 1s steps(1) infinite;\n",
              "  }\n",
              "\n",
              "  @keyframes spin {\n",
              "    0% {\n",
              "      border-color: transparent;\n",
              "      border-bottom-color: var(--fill-color);\n",
              "      border-left-color: var(--fill-color);\n",
              "    }\n",
              "    20% {\n",
              "      border-color: transparent;\n",
              "      border-left-color: var(--fill-color);\n",
              "      border-top-color: var(--fill-color);\n",
              "    }\n",
              "    30% {\n",
              "      border-color: transparent;\n",
              "      border-left-color: var(--fill-color);\n",
              "      border-top-color: var(--fill-color);\n",
              "      border-right-color: var(--fill-color);\n",
              "    }\n",
              "    40% {\n",
              "      border-color: transparent;\n",
              "      border-right-color: var(--fill-color);\n",
              "      border-top-color: var(--fill-color);\n",
              "    }\n",
              "    60% {\n",
              "      border-color: transparent;\n",
              "      border-right-color: var(--fill-color);\n",
              "    }\n",
              "    80% {\n",
              "      border-color: transparent;\n",
              "      border-right-color: var(--fill-color);\n",
              "      border-bottom-color: var(--fill-color);\n",
              "    }\n",
              "    90% {\n",
              "      border-color: transparent;\n",
              "      border-bottom-color: var(--fill-color);\n",
              "    }\n",
              "  }\n",
              "</style>\n",
              "\n",
              "  <script>\n",
              "    async function quickchart(key) {\n",
              "      const quickchartButtonEl =\n",
              "        document.querySelector('#' + key + ' button');\n",
              "      quickchartButtonEl.disabled = true;  // To prevent multiple clicks.\n",
              "      quickchartButtonEl.classList.add('colab-df-spinner');\n",
              "      try {\n",
              "        const charts = await google.colab.kernel.invokeFunction(\n",
              "            'suggestCharts', [key], {});\n",
              "      } catch (error) {\n",
              "        console.error('Error during call to suggestCharts:', error);\n",
              "      }\n",
              "      quickchartButtonEl.classList.remove('colab-df-spinner');\n",
              "      quickchartButtonEl.classList.add('colab-df-quickchart-complete');\n",
              "    }\n",
              "    (() => {\n",
              "      let quickchartButtonEl =\n",
              "        document.querySelector('#df-e88c9949-db2d-43de-9fc8-6de0db777e82 button');\n",
              "      quickchartButtonEl.style.display =\n",
              "        google.colab.kernel.accessAllowed ? 'block' : 'none';\n",
              "    })();\n",
              "  </script>\n",
              "</div>\n",
              "    </div>\n",
              "  </div>\n"
            ]
          },
          "metadata": {},
          "execution_count": 6
        }
      ],
      "source": [
        "df.describe()"
      ]
    },
    {
      "cell_type": "markdown",
      "metadata": {
        "id": "HC6hyDm9ah6B"
      },
      "source": [
        "# Module 2: Data Wrangling\n"
      ]
    },
    {
      "cell_type": "markdown",
      "metadata": {
        "id": "KjZVFqv1ah6B"
      },
      "source": [
        "### Question 2\n",
        "\n",
        "Drop the columns <code>\"id\"</code>  and <code>\"Unnamed: 0\"</code> from axis 1 using the method <code>drop()</code>, then use the method <code>describe()</code> to obtain a statistical summary of the data. Take a screenshot and submit it, make sure the <code>inplace</code> parameter is set to <code>True</code>\n"
      ]
    },
    {
      "cell_type": "code",
      "execution_count": 7,
      "metadata": {
        "jupyter": {
          "outputs_hidden": false
        },
        "colab": {
          "base_uri": "https://localhost:8080/"
        },
        "id": "4oo-BTlsah6B",
        "outputId": "378f45b2-36aa-4e81-f9b6-997096c1cd95"
      },
      "outputs": [
        {
          "output_type": "execute_result",
          "data": {
            "text/plain": [
              "(21613, 20)"
            ]
          },
          "metadata": {},
          "execution_count": 7
        }
      ],
      "source": [
        "df.drop(['id','Unnamed: 0'],axis=1,inplace=True)\n",
        "df.shape"
      ]
    },
    {
      "cell_type": "markdown",
      "metadata": {
        "id": "nDN6AarTah6B"
      },
      "source": [
        "We can see we have missing values for the columns <code> bedrooms</code>  and <code> bathrooms </code>\n"
      ]
    },
    {
      "cell_type": "code",
      "execution_count": 8,
      "metadata": {
        "jupyter": {
          "outputs_hidden": false
        },
        "colab": {
          "base_uri": "https://localhost:8080/"
        },
        "id": "Y3qwZC6Sah6B",
        "outputId": "184dd25e-bcda-48db-f4ce-a855477d7586"
      },
      "outputs": [
        {
          "output_type": "stream",
          "name": "stdout",
          "text": [
            "number of NaN values for the column bedrooms : 13\n",
            "number of NaN values for the column bathrooms : 10\n"
          ]
        }
      ],
      "source": [
        "print(\"number of NaN values for the column bedrooms :\", df['bedrooms'].isnull().sum())\n",
        "print(\"number of NaN values for the column bathrooms :\", df['bathrooms'].isnull().sum())\n"
      ]
    },
    {
      "cell_type": "markdown",
      "metadata": {
        "id": "6124bH2lah6B"
      },
      "source": [
        "We can replace the missing values of the column <code>'bedrooms'</code> with the mean of the column  <code>'bedrooms' </code> using the method <code>replace()</code>. Don't forget to set the <code>inplace</code> parameter to <code>True</code>\n"
      ]
    },
    {
      "cell_type": "code",
      "execution_count": 9,
      "metadata": {
        "id": "SXsbylR6ah6C"
      },
      "outputs": [],
      "source": [
        "mean=df['bedrooms'].mean()\n",
        "df['bedrooms'].replace(np.nan,mean, inplace=True)"
      ]
    },
    {
      "cell_type": "markdown",
      "metadata": {
        "id": "-c23Cal-ah6C"
      },
      "source": [
        "We also replace the missing values of the column <code>'bathrooms'</code> with the mean of the column  <code>'bathrooms' </code> using the method <code>replace()</code>. Don't forget to set the <code> inplace </code>  parameter top <code> True </code>\n"
      ]
    },
    {
      "cell_type": "code",
      "execution_count": 10,
      "metadata": {
        "id": "VqkV1PCrah6C"
      },
      "outputs": [],
      "source": [
        "mean=df['bathrooms'].mean()\n",
        "df['bathrooms'].replace(np.nan,mean, inplace=True)"
      ]
    },
    {
      "cell_type": "code",
      "execution_count": 11,
      "metadata": {
        "jupyter": {
          "outputs_hidden": false
        },
        "colab": {
          "base_uri": "https://localhost:8080/"
        },
        "id": "uofhKeMnah6C",
        "outputId": "5b3c6de9-b27b-4b02-8618-efceb82d5185"
      },
      "outputs": [
        {
          "output_type": "stream",
          "name": "stdout",
          "text": [
            "number of NaN values for the column bedrooms : 0\n",
            "number of NaN values for the column bathrooms : 0\n"
          ]
        }
      ],
      "source": [
        "print(\"number of NaN values for the column bedrooms :\", df['bedrooms'].isnull().sum())\n",
        "print(\"number of NaN values for the column bathrooms :\", df['bathrooms'].isnull().sum())"
      ]
    },
    {
      "cell_type": "markdown",
      "metadata": {
        "id": "LIt-uCvaah6C"
      },
      "source": [
        "# Module 3: Exploratory Data Analysis\n"
      ]
    },
    {
      "cell_type": "markdown",
      "metadata": {
        "id": "ow_O8G2Jah6C"
      },
      "source": [
        "### Question 3\n",
        "\n",
        "Use the method <code>value_counts</code> to count the number of houses with unique floor values, use the method <code>.to_frame()</code> to convert it to a dataframe.\n"
      ]
    },
    {
      "cell_type": "code",
      "execution_count": 12,
      "metadata": {
        "jupyter": {
          "outputs_hidden": false
        },
        "colab": {
          "base_uri": "https://localhost:8080/",
          "height": 702
        },
        "id": "BFbiWXIkah6C",
        "outputId": "5a020ffb-7188-42d3-ce36-71f3bf976b15"
      },
      "outputs": [
        {
          "output_type": "execute_result",
          "data": {
            "text/plain": [
              "     floors\n",
              "1.0   10680\n",
              "2.0    8241\n",
              "1.5    1910\n",
              "3.0     613\n",
              "2.5     161\n",
              "3.5       8"
            ],
            "text/html": [
              "\n",
              "  <div id=\"df-eb359ee3-db55-4bfe-97cb-f97db17f9c8d\" class=\"colab-df-container\">\n",
              "    <div>\n",
              "<style scoped>\n",
              "    .dataframe tbody tr th:only-of-type {\n",
              "        vertical-align: middle;\n",
              "    }\n",
              "\n",
              "    .dataframe tbody tr th {\n",
              "        vertical-align: top;\n",
              "    }\n",
              "\n",
              "    .dataframe thead th {\n",
              "        text-align: right;\n",
              "    }\n",
              "</style>\n",
              "<table border=\"1\" class=\"dataframe\">\n",
              "  <thead>\n",
              "    <tr style=\"text-align: right;\">\n",
              "      <th></th>\n",
              "      <th>floors</th>\n",
              "    </tr>\n",
              "  </thead>\n",
              "  <tbody>\n",
              "    <tr>\n",
              "      <th>1.0</th>\n",
              "      <td>10680</td>\n",
              "    </tr>\n",
              "    <tr>\n",
              "      <th>2.0</th>\n",
              "      <td>8241</td>\n",
              "    </tr>\n",
              "    <tr>\n",
              "      <th>1.5</th>\n",
              "      <td>1910</td>\n",
              "    </tr>\n",
              "    <tr>\n",
              "      <th>3.0</th>\n",
              "      <td>613</td>\n",
              "    </tr>\n",
              "    <tr>\n",
              "      <th>2.5</th>\n",
              "      <td>161</td>\n",
              "    </tr>\n",
              "    <tr>\n",
              "      <th>3.5</th>\n",
              "      <td>8</td>\n",
              "    </tr>\n",
              "  </tbody>\n",
              "</table>\n",
              "</div>\n",
              "    <div class=\"colab-df-buttons\">\n",
              "\n",
              "  <div class=\"colab-df-container\">\n",
              "    <button class=\"colab-df-convert\" onclick=\"convertToInteractive('df-eb359ee3-db55-4bfe-97cb-f97db17f9c8d')\"\n",
              "            title=\"Convert this dataframe to an interactive table.\"\n",
              "            style=\"display:none;\">\n",
              "\n",
              "  <svg xmlns=\"http://www.w3.org/2000/svg\" height=\"24px\" viewBox=\"0 -960 960 960\">\n",
              "    <path d=\"M120-120v-720h720v720H120Zm60-500h600v-160H180v160Zm220 220h160v-160H400v160Zm0 220h160v-160H400v160ZM180-400h160v-160H180v160Zm440 0h160v-160H620v160ZM180-180h160v-160H180v160Zm440 0h160v-160H620v160Z\"/>\n",
              "  </svg>\n",
              "    </button>\n",
              "\n",
              "  <style>\n",
              "    .colab-df-container {\n",
              "      display:flex;\n",
              "      gap: 12px;\n",
              "    }\n",
              "\n",
              "    .colab-df-convert {\n",
              "      background-color: #E8F0FE;\n",
              "      border: none;\n",
              "      border-radius: 50%;\n",
              "      cursor: pointer;\n",
              "      display: none;\n",
              "      fill: #1967D2;\n",
              "      height: 32px;\n",
              "      padding: 0 0 0 0;\n",
              "      width: 32px;\n",
              "    }\n",
              "\n",
              "    .colab-df-convert:hover {\n",
              "      background-color: #E2EBFA;\n",
              "      box-shadow: 0px 1px 2px rgba(60, 64, 67, 0.3), 0px 1px 3px 1px rgba(60, 64, 67, 0.15);\n",
              "      fill: #174EA6;\n",
              "    }\n",
              "\n",
              "    .colab-df-buttons div {\n",
              "      margin-bottom: 4px;\n",
              "    }\n",
              "\n",
              "    [theme=dark] .colab-df-convert {\n",
              "      background-color: #3B4455;\n",
              "      fill: #D2E3FC;\n",
              "    }\n",
              "\n",
              "    [theme=dark] .colab-df-convert:hover {\n",
              "      background-color: #434B5C;\n",
              "      box-shadow: 0px 1px 3px 1px rgba(0, 0, 0, 0.15);\n",
              "      filter: drop-shadow(0px 1px 2px rgba(0, 0, 0, 0.3));\n",
              "      fill: #FFFFFF;\n",
              "    }\n",
              "  </style>\n",
              "\n",
              "    <script>\n",
              "      const buttonEl =\n",
              "        document.querySelector('#df-eb359ee3-db55-4bfe-97cb-f97db17f9c8d button.colab-df-convert');\n",
              "      buttonEl.style.display =\n",
              "        google.colab.kernel.accessAllowed ? 'block' : 'none';\n",
              "\n",
              "      async function convertToInteractive(key) {\n",
              "        const element = document.querySelector('#df-eb359ee3-db55-4bfe-97cb-f97db17f9c8d');\n",
              "        const dataTable =\n",
              "          await google.colab.kernel.invokeFunction('convertToInteractive',\n",
              "                                                    [key], {});\n",
              "        if (!dataTable) return;\n",
              "\n",
              "        const docLinkHtml = 'Like what you see? Visit the ' +\n",
              "          '<a target=\"_blank\" href=https://colab.research.google.com/notebooks/data_table.ipynb>data table notebook</a>'\n",
              "          + ' to learn more about interactive tables.';\n",
              "        element.innerHTML = '';\n",
              "        dataTable['output_type'] = 'display_data';\n",
              "        await google.colab.output.renderOutput(dataTable, element);\n",
              "        const docLink = document.createElement('div');\n",
              "        docLink.innerHTML = docLinkHtml;\n",
              "        element.appendChild(docLink);\n",
              "      }\n",
              "    </script>\n",
              "  </div>\n",
              "\n",
              "\n",
              "<div id=\"df-f3562f5c-bdf1-4302-8482-52c2b0321bc8\">\n",
              "  <button class=\"colab-df-quickchart\" onclick=\"quickchart('df-f3562f5c-bdf1-4302-8482-52c2b0321bc8')\"\n",
              "            title=\"Suggest charts.\"\n",
              "            style=\"display:none;\">\n",
              "\n",
              "<svg xmlns=\"http://www.w3.org/2000/svg\" height=\"24px\"viewBox=\"0 0 24 24\"\n",
              "     width=\"24px\">\n",
              "    <g>\n",
              "        <path d=\"M19 3H5c-1.1 0-2 .9-2 2v14c0 1.1.9 2 2 2h14c1.1 0 2-.9 2-2V5c0-1.1-.9-2-2-2zM9 17H7v-7h2v7zm4 0h-2V7h2v10zm4 0h-2v-4h2v4z\"/>\n",
              "    </g>\n",
              "</svg>\n",
              "  </button>\n",
              "\n",
              "<style>\n",
              "  .colab-df-quickchart {\n",
              "      --bg-color: #E8F0FE;\n",
              "      --fill-color: #1967D2;\n",
              "      --hover-bg-color: #E2EBFA;\n",
              "      --hover-fill-color: #174EA6;\n",
              "      --disabled-fill-color: #AAA;\n",
              "      --disabled-bg-color: #DDD;\n",
              "  }\n",
              "\n",
              "  [theme=dark] .colab-df-quickchart {\n",
              "      --bg-color: #3B4455;\n",
              "      --fill-color: #D2E3FC;\n",
              "      --hover-bg-color: #434B5C;\n",
              "      --hover-fill-color: #FFFFFF;\n",
              "      --disabled-bg-color: #3B4455;\n",
              "      --disabled-fill-color: #666;\n",
              "  }\n",
              "\n",
              "  .colab-df-quickchart {\n",
              "    background-color: var(--bg-color);\n",
              "    border: none;\n",
              "    border-radius: 50%;\n",
              "    cursor: pointer;\n",
              "    display: none;\n",
              "    fill: var(--fill-color);\n",
              "    height: 32px;\n",
              "    padding: 0;\n",
              "    width: 32px;\n",
              "  }\n",
              "\n",
              "  .colab-df-quickchart:hover {\n",
              "    background-color: var(--hover-bg-color);\n",
              "    box-shadow: 0 1px 2px rgba(60, 64, 67, 0.3), 0 1px 3px 1px rgba(60, 64, 67, 0.15);\n",
              "    fill: var(--button-hover-fill-color);\n",
              "  }\n",
              "\n",
              "  .colab-df-quickchart-complete:disabled,\n",
              "  .colab-df-quickchart-complete:disabled:hover {\n",
              "    background-color: var(--disabled-bg-color);\n",
              "    fill: var(--disabled-fill-color);\n",
              "    box-shadow: none;\n",
              "  }\n",
              "\n",
              "  .colab-df-spinner {\n",
              "    border: 2px solid var(--fill-color);\n",
              "    border-color: transparent;\n",
              "    border-bottom-color: var(--fill-color);\n",
              "    animation:\n",
              "      spin 1s steps(1) infinite;\n",
              "  }\n",
              "\n",
              "  @keyframes spin {\n",
              "    0% {\n",
              "      border-color: transparent;\n",
              "      border-bottom-color: var(--fill-color);\n",
              "      border-left-color: var(--fill-color);\n",
              "    }\n",
              "    20% {\n",
              "      border-color: transparent;\n",
              "      border-left-color: var(--fill-color);\n",
              "      border-top-color: var(--fill-color);\n",
              "    }\n",
              "    30% {\n",
              "      border-color: transparent;\n",
              "      border-left-color: var(--fill-color);\n",
              "      border-top-color: var(--fill-color);\n",
              "      border-right-color: var(--fill-color);\n",
              "    }\n",
              "    40% {\n",
              "      border-color: transparent;\n",
              "      border-right-color: var(--fill-color);\n",
              "      border-top-color: var(--fill-color);\n",
              "    }\n",
              "    60% {\n",
              "      border-color: transparent;\n",
              "      border-right-color: var(--fill-color);\n",
              "    }\n",
              "    80% {\n",
              "      border-color: transparent;\n",
              "      border-right-color: var(--fill-color);\n",
              "      border-bottom-color: var(--fill-color);\n",
              "    }\n",
              "    90% {\n",
              "      border-color: transparent;\n",
              "      border-bottom-color: var(--fill-color);\n",
              "    }\n",
              "  }\n",
              "</style>\n",
              "\n",
              "  <script>\n",
              "    async function quickchart(key) {\n",
              "      const quickchartButtonEl =\n",
              "        document.querySelector('#' + key + ' button');\n",
              "      quickchartButtonEl.disabled = true;  // To prevent multiple clicks.\n",
              "      quickchartButtonEl.classList.add('colab-df-spinner');\n",
              "      try {\n",
              "        const charts = await google.colab.kernel.invokeFunction(\n",
              "            'suggestCharts', [key], {});\n",
              "      } catch (error) {\n",
              "        console.error('Error during call to suggestCharts:', error);\n",
              "      }\n",
              "      quickchartButtonEl.classList.remove('colab-df-spinner');\n",
              "      quickchartButtonEl.classList.add('colab-df-quickchart-complete');\n",
              "    }\n",
              "    (() => {\n",
              "      let quickchartButtonEl =\n",
              "        document.querySelector('#df-f3562f5c-bdf1-4302-8482-52c2b0321bc8 button');\n",
              "      quickchartButtonEl.style.display =\n",
              "        google.colab.kernel.accessAllowed ? 'block' : 'none';\n",
              "    })();\n",
              "  </script>\n",
              "</div>\n",
              "    </div>\n",
              "  </div>\n"
            ]
          },
          "metadata": {},
          "execution_count": 12
        },
        {
          "output_type": "display_data",
          "data": {
            "text/plain": [
              "<google.colab._quickchart_helpers.SectionTitle at 0x7f77c988cd00>"
            ],
            "text/html": [
              "<h4 class=\"colab-quickchart-section-title\">Values</h4>\n",
              "<style>\n",
              "  .colab-quickchart-section-title {\n",
              "      clear: both;\n",
              "  }\n",
              "</style>"
            ]
          },
          "metadata": {}
        },
        {
          "output_type": "display_data",
          "data": {
            "text/plain": [
              "import numpy as np\n",
              "from google.colab import autoviz\n",
              "\n",
              "def value_plot(df, y, figscale=1):\n",
              "  from matplotlib import pyplot as plt\n",
              "  df[y].plot(kind='line', figsize=(8 * figscale, 4 * figscale), title=y)\n",
              "  plt.gca().spines[['top', 'right']].set_visible(False)\n",
              "  plt.tight_layout()\n",
              "  return autoviz.MplChart.from_current_mpl_state()\n",
              "\n",
              "chart = value_plot(_df_0, *['floors'], **{})\n",
              "chart"
            ],
            "text/html": [
              "      <div class=\"colab-quickchart-chart-with-code\" id=\"chart-6a7f2c4c-f5db-4e2f-bad0-17127b4038f8\">\n",
              "        <img src=\"data:image/png;base64,iVBORw0KGgoAAAANSUhEUgAAAYsAAADECAYAAABumQ2GAAAAOXRFWHRTb2Z0d2FyZQBNYXRwbG90\n",
              "bGliIHZlcnNpb24zLjcuMSwgaHR0cHM6Ly9tYXRwbG90bGliLm9yZy/bCgiHAAAACXBIWXMAAA9h\n",
              "AAAPYQGoP6dpAAAkvklEQVR4nO3deVxTd7438E8WEtYEwiIohKigVlEQhcvU29pOl6s+02p1qh3r\n",
              "wnRRa311Oj7tqG3tMrejt1PH5zra1tqZsYudto7YahenVmtp7WjBdUpVFCQEWUQIRNaQ5Tx/BAJR\n",
              "NAETQsLn/XrlRTi/Q/L9lYaP53zPIhIEQQAREdF1iL1dABER9X8MCyIicophQURETjEsiIjIKYYF\n",
              "ERE5xbAgIiKnGBZEROQUw4KIiJxiWBARkVMMCyIXmUwmPPjgg1CpVAgNDUVERAT+8pe/eLssoj7B\n",
              "sCBy0Y4dO3DgwAFotVo0NjZCqVR6uySiPsOwIHJRcXExhg0bBoVC0Sfv19bW1ifvQ+QKhgWRC7Kz\n",
              "s/H73/8ehw4dQmhoKKZOnXrVOocOHcItt9yCiIgIDB06FCtXroTRaLSPl5eXY/bs2Rg0aBAGDRqE\n",
              "OXPmoKKiwuE9Zs+ejcceewzR0dGYPn062trasHTpUsTGxiIsLAwajQYbN27skzkTdcWwIHLB22+/\n",
              "jWeeeQY/+9nP0NjYiD179jiM63Q63HnnnZg1axYuXryIvXv34tNPP8WKFSsAABaLBb/4xS8gkUhw\n",
              "9uxZFBYWQhAE3HvvvbBYLPbX+fjjj5GRkYGKigrk5OTgnXfewaFDh1BQUICGhgYcPnwYkyZN6tO5\n",
              "EwEMCyK3eP/99zFixAg8+eSTkMlkSE5Oxssvv4wtW7ZAEATk5eXh5MmTeP3116FUKhEeHo433ngD\n",
              "x44dQ35+vv11Jk6ciIceeggBAQEIDg6GTCZDY2MjTp06BZPJhNjYWKSnp3txpjRQMSyI3KCsrAzD\n",
              "hw93WJaUlISWlhZcunQJZWVlUKlUiIiIsI9HRkYiIiICOp3Ovmzo0KEOrzFv3jwsXrwYTz/9NKKi\n",
              "ojB16lQcPXrUs5Mh6gbDgsgNEhIScP78eYdlxcXFCAoKQnR0NBISElBXV4e6ujr7uF6vR11dHdRq\n",
              "tX2ZWOz4kZRIJHjqqafwww8/oLy8HDfddBOmT5/u2ckQdYNhQeQGc+fORWFhITZu3Ii2tjYUFxdj\n",
              "9erVeOSRRyASiZCZmYmUlBQsW7YMly9fhsFgwOOPP460tDRkZGRc83W//vprHDlyBG1tbQgMDERo\n",
              "aCgkEkkfzozIhmFB5AaJiYnYu3cvPvroI8TExODnP/85pk6dij/+8Y8AbFsIn332GYxGI5KSkpCc\n",
              "nAyz2Yzdu3df949/dXU1srOzoVKpEB0djdzcXOzYsaOvpkVkJ+I9uImIyBluWRARkVMMCyIicoph\n",
              "QURETjEsiIjIKYYFERE5xbAgIiKnGBZEROSUX4fFhg0bvF0CEZFf8OuwKC0t9XYJRER+wa/DgoiI\n",
              "3INhQURETjEsiIjIKYbFFZqMZqz94jT2nbqI+uY2b5dDRNQvSL1dQH9zTFeHN789jze/td3IZuSg\n",
              "MGQMjUCGRoXMoSrEKYO8XCERUd9jWFxBFSLDAxkJyNPqcf5SEwovNqDwYgO2Hbbd+jI+IgiZGhUm\n",
              "alTIHBqB4dGhEIlEXq6aiMizGBZXGDNYif+ZNQ4AUNNoxBGtHnkldcjX6vFThQEX6lpwoa4cO4+X\n",
              "A7CFy8TECGQOVSFDo8KYwQpIJdy7R0T+hWFxHVGhckxJicOUlDgAQKPRjGOltuDI1+pxXFcPfVMb\n",
              "9p66iL2nLgIAgmUSpKttu60yhkZgfEIEgmS8DSYR+TaGRQ+EyqW4dUQ0bh0RDQBoM1vxY7nBFh4l\n",
              "tgC53GrGwaIaHCyqAQBIxSKkDFHatzwyNBEID5Z5cxpERD3Wo9uqPvHEE9i9ezdKS0tx/PhxpKWl\n",
              "AQDOnTuHhQsXoqamBkqlEm+//TbGjBnjsTFXLV++HOvXr+/Rz9wIq1XA2eoG5JfokaetQ36JHlWX\n",
              "W69ab8SgUHvDPEOjwuBwNs2JqJ8TeiA3N1coKysTEhMThePHj9uX33777cLWrVsFQRCEf/zjH8LE\n",
              "iRM9Ouaq3/72tz3+GXeyWq2CrrZJyDlaJqzMOSn8fN0BIXHFZ1c9bl67X3jyw+PCtsNa4WzVZcFq\n",
              "tXq1biKiK/Voy6KDRqPBJ598grS0NFRXVyMpKQl6vR5SqRSCICAuLg4HDx6EQqFw+1hSUpLLdfb1\n",
              "loUrahuNyNd29j1+qrgMi9XxVxARHGA72kqjQsZQW9M8gE1zIvKiG+5ZlJWVIS4uDlKp7aVEIhHU\n",
              "ajV0Oh2USqXbx64VFkajEUaj0WGZxWK50em5XWSoHFNSYjElJRaA7STAY7q69l1Xepwoq0ddswlf\n",
              "nbqIr9qb5kEBEqQnhtt2XWlUSFOHI1jGdhMR9R2/+Yuzdu1avPTSSw7LsrKyvFSN60LkUtySHI1b\n",
              "kjub5gUVBnvDPF9bB0OLCd8X1eL7oloAtqb5mCFKZGraj7rSqBARwqY5EXnODYdFQkICKisrYTab\n",
              "7buMdDod1Go1FAqF28euZdWqVVi+fLnDstWrV9/o9PqcTCpGujoC6eoILJ48HFargHPVjcjrcsRV\n",
              "paEVJ8vqcbKsHm99VwIASI4JRcbQzl1XQ9g0JyI3uuGwiImJQXp6OrZt24bs7Gzk5OQgPj7evrvI\n",
              "E2PdkcvlkMvlDsskEt8/v0EsFmFkbBhGxoZhflYiBEHAhboW+1ZHvlaPoupGnGt//P0H25nmQ8KD\n",
              "kKGJQEb7EVdJ0aEQi3mmORH1To8a3IsXL8bnn3+OqqoqREZGIiwsDEVFRSgsLER2djZqa2uhUCiw\n",
              "detWjB07FgA8Muaq/tjg9oTaRiOOlNbZtzwKrtE0n5Bou0RJhkaFlCFKNs2JyGW9OhrKVwyUsLhS\n",
              "k9GM47p6+66r42V1aDVZHdYJCpBgvDrcfr7HeDbNieg6+NfBD4XIpfjP5Cj8Z3IUAMBksaKg/Uzz\n",
              "vJI6HCnVo77ZhH8V1+JfxbamuUQsQspgRftlSmy7rlRsmhNRO25ZDEBWq4CiS43I6zjiqkSPCsPV\n",
              "Z5onxXScaW7bdRUfEeyFaomoP+CWxQAkFoswYlAYRgwKw7ysRADAhbpm+5ZHR9O84/FBnq1pPlgZ\n",
              "aN/qyNCokBzDpjnRQMGwIABAfEQw4iOCcd/4eACAvqkNR9rPMs/T1qGg3IAKQyt2najArhMVAIDw\n",
              "4ABMTIyw77pKGayETMqmOZE/YlhQt1QhMtw9JhZ3j7Gdad7c1t40L+m8PHt9swn7Tldj3+lqAEBg\n",
              "gBjjEyLs53uMV4cjRM7/xYj8AT/J5JJgmRSTkqIwKenqpnm+tg5HtHrUNZtw6HwtDp13bJpP1HRe\n",
              "nj0yVH69tyGifooNbnILq1VA8aWuZ5rXoby+5ar1hkeHdLm3hwrxEUG8LS2RD+CWBbmFWCxC8qAw\n",
              "JA8Kw4P/YWual9e32C+QmF+ix7nqRhRfakLxpSZ8kFcGAIhTBtp7HplsmhP1WwwL8pgh4UEYMn4I\n",
              "ZowfAgCoa2qznWmu1SOvRI+CcgMqDa3YfbICu0/amubKoPamefvWx9ghbJoT9QcMC+ozESEy3DV6\n",
              "EO4aPQiArWl+ouNMc60ex0rrYWgxYf+Zauw/09k0T0sIt18gMV0dwaY5kRfwU0deEyyT4uakKNzc\n",
              "pWn+U8Vl+66rjqb54fN6HD6vB2Brmo8ZrMDE9utcTdSoEMWmOZHHscFN/ZYgtDfNSzp3XXXXNB8W\n",
              "HWLb8mi/zhWb5kTuxy0L6rdEIhGSYsKQFBOGuf9hu5dJRX2LPTjytXqcvdiI85eacP5SEz7MtzXN\n",
              "YxWB7Q1zW+9jREwYm+ZEN4hbFuTTOprmR7S2XVc/XjDAfMXl2RWBUvu5HplDIzB2SDib5kQ95NYt\n",
              "iy+++ALPPfccrFYrzGYznn76aSxcuBDV1dVYsGABiouLIZfL8frrr+PWW28FgF6PEQFXN81b2iw4\n",
              "XlaH/PZdV8d0dbjcasbXZ6rxdXvTXC4V45bkKPzvA+MRymY5kUvc9kkRBAHz5s3DN998g3HjxkGr\n",
              "1WLUqFGYOXMmVq5ciaysLPzzn/9Efn4+7rvvPpSUlCAgIKDXY0TdCZJJcPPwKNw8vLNpfqricvuZ\n",
              "5np8X1SLRqMZ+05Xo0zfjJviFF6umMg3uPWfVSKRCPX19QCAy5cvIzIyEnK5HNu3b0dRUREAICMj\n",
              "A4MHD0Zubi7uvPPOXo8RuSJAIkZqQjhSE8Jx28hofF/0LwDA/KxEBgVRD7gtLEQiET766CPMnDkT\n",
              "ISEhqKurw86dO9HQ0ACTyYTY2Fj7uhqNBjqdDrW1tb0a647RaITRaHRYZrFY3DU98nGGFhMeffco\n",
              "Go1mZA5V4fl7Rnu7JCKf4rYun9lsxssvv4ydO3eitLQU+/fvx/z582E2m931Fte1du1aKJVKh0de\n",
              "Xl6fvDf1bxargN98eBwlNU0YrAzE6w+m8/7jRD3ktk/MiRMnUFFRYW9AZ2RkID4+Hv/+978hlUpR\n",
              "VVVlX1er1UKtViMyMrJXY91ZtWoVDAaDwyMzM9Nd0yMftm5vIb4pvITAADG2LJjIk/iIesFtYZGQ\n",
              "kIDKykqcPn0aAFBUVITi4mKMHDkS999/PzZv3gwAyM/PR3l5OSZPngwAvR67klwuh0KhcHhIJBJ3\n",
              "TY981KcnK/DGN8UAgFdmjUPKEKWXKyLyTW7rWQwaNAhbtmzB7NmzIRaLYbVasWnTJqjVarzyyiuY\n",
              "P38+kpOTIZPJsG3bNvsRTb0dI3KmoNyAp3ecBAAsnjwM09OGeLkiIt/Fk/LIL9U2GnHvpu9RXt+C\n",
              "ySOi8bfsDEh4FjdRr7HLR37HZLFi6fvHUF7fgqFRIfjzA+MZFEQ3iGFBfuflz07hhxI9QuVSvLVg\n",
              "ApTB3HVJdKMYFuRXPsrX4Z1DpQCA/zcnDUkxYV6uiMg/MCzIbxwtrcNznxQAAJbfNcJ+vSgiunEM\n",
              "C/ILVYZWLNl2FCaLgKkpsVh2e5K3SyLyKwwL8nmtJgsWv3cElxqMGBUbhnX3p/L+FURuxrAgnyYI\n",
              "Ap79uAAnLxgQHhyALfMn8h7dRB7AsCCftvV7LXKOXYBELMJrc9Ohjgz2dklEfolhQT7r+6Ia/OEL\n",
              "2+Vlnpl2EyYlRXm5IiL/xbAgn6Srbcbjfz8Gi1XArPR4PDRJ4+2SiPwaw4J8TpPRjEXvHUF9swmp\n",
              "8Ur84b4UiERsaBN5EsOCfIogCHh6x0mcqWpAdJgcb86fiMAAXl2YyNMYFuRTXjtQhC9+rEKARITN\n",
              "89IRqwz0dklEAwLDgnzGvlMXsW7vWQDAf09PwYRElZcrIho4GBbkE4qqG/DkRycAAPOzEvFAZvd3\n",
              "TCQiz3BrWBiNRixbtgzJyckYO3Ys5s2bBwA4d+4cbr75ZowYMQIZGRn46aef7D/T2zEaOAwtJjz6\n",
              "7lE0Gs3IHKrC8/eM9nZJRAOOW8Ni5cqVEIlEOHv2LH788UesW7cOALB48WIsWrQIZ8+exYoVK5Cd\n",
              "nW3/md6O0cBgsQr4zYfHUVLThCHhQXjjwXQESLhBTNTX3HanvKamJsTFxeHChQtQKBT25dXV1UhK\n",
              "SoJer4dUKoUgCIiLi8PBgwehUCh6NZaU5NpF4ninPN/3P3vOYHNuMQIDxNix5GbeQ5vIS9x2EZ3i\n",
              "4mKoVCqsWbMG+/btQ1BQEF588UWEh4cjLi4OUqntrUQiEdRqNXQ6HZRKZa/GugsLo9EIo9HosMxi\n",
              "sbhreuQFu09WYHNuMQDglVnjGBREXuS27Xmz2YzS0lKMHj0aR44cwZ///GfMmTMHZrPZXW9xXWvX\n",
              "roVSqXR45OXl9cl7k/sVlBvwux0nAQBLJg/H9LQhXq6IaGBzW1io1WqIxWI8+OCDAIDx48dj6NCh\n",
              "KC0tRWVlpT00BEGATqeDWq1GQkJCr8a6s2rVKhgMBodHZmamu6ZHfaim0YjF7x1Fq8mK20ZG4+n/\n",
              "GuntkogGPLeFRVRUFO644w58+eWXAICSkhKUlJRg0qRJSE9Px7Zt2wAAOTk5iI+PR1JSEmJiYno1\n",
              "1h25XA6FQuHwkEh4Zq+vMVmsWPr+MZTXt2BoVAg2PDAeEt6bgsjr3NbgBoDz58/j4YcfRk1NDcRi\n",
              "MZ5//nnMmjULhYWFyM7ORm1tLRQKBbZu3YqxY8cCQK/HXMEGt+95flcB3j1UilC5FJ88fjPvoU3U\n",
              "T7g1LPobhoVv+TBPh5U7f4RIBLw1fyLu5D20ifoNHrBO/cLRUj1W7yoAACy/cwSDgqifYViQ11UZ\n",
              "WrFk2zGYLAKmpsRi2c9dO4+GiPoOw4K8qtVkweL3juBSgxGjYsOw7v5U3puCqB9iWJDXCIKAZz8u\n",
              "wMkLBoQHB+CtBRMRInfbeaJE5EYMC/Kav32vRc6xC5CIRXhtbjoSVMHeLomIroFhQV7xfVEN1nxx\n",
              "GgDwzLSbMCkpyssVEdH1MCyoz+lqm/H434/BYhUwKz0eD03SeLskInKCYUF9qsloxqL3jqC+2YTU\n",
              "hHD84b4UNrSJfADDgvqMIAh46h8ncaaqAdFhcrw5bwICA3hJFiJfwLCgPrPp6yLsKahCgESEzfPS\n",
              "EasM9HZJROQihgX1iX2nLuJPX50FALw8IwUTElVeroiIeoJhQR5XVN2AJz86AQBY8LNEzMno/jLz\n",
              "RNR/MSzIowwtJjz67lE0Gs34j6EqrP7FaG+XRES9wLAgj7FYBTzxwXGU1DRhSHgQXn8wHQES/i9H\n",
              "5Ivc/sndunUrRCIRPvnkEwBAdXU1pkyZguTkZKSkpODbb7+1r9vbMfINr35ZiNyzlxAYIMaWBRMQ\n",
              "GSr3dklE1EtuDQutVou33noLWVlZ9mUrV65EVlYWzp07h61bt2Lu3LkwmUw3NEb9364T5dicWwwA\n",
              "ePWXqRgzWOnliojoRrgtLKxWKx555BFs3LgRcnnnvyC3b9+OJUuWAAAyMjIwePBg5Obm3tAY9W8F\n",
              "5QasyPk3AGDJ5OG4J3Wwlysiohvltkt8rl+/HpMmTcKECRPsy2pra2EymRAbG2tfptFooNPpej12\n",
              "LUajEUaj0WGZxWJxx9SoB2oajVj83lG0mqy4bWQ0nv6vkd4uiYjcwC1bFgUFBcjJycFzzz3njpfr\n",
              "lbVr10KpVDo88vLyvFbPQGSyWLH0/WMor2/BsKgQbHhgPCRiXsqDyB+4JSy+++47aLVaJCcnQ6PR\n",
              "4PDhw1i0aBG2b98OqVSKqqoq+7parRZqtRqRkZG9GruWVatWwWAwODwyMzPdMT1y0e8/PYW8Ej1C\n",
              "5VJsWTAByqAAb5dERG7ilrB47LHHUFlZCa1WC61Wi6ysLGzZsgWPPfYY7r//fmzevBkAkJ+fj/Ly\n",
              "ckyePBkAej3WHblcDoVC4fCQSHjdob7yYZ4O7x0uhUgE/O+cNCTFhHm7JCJyI4/fluyVV17B/Pnz\n",
              "kZycDJlMhm3btiEgIOCGxqh/OVqqx+pdBQCA/3vXCNw5epCXKyIidxMJgiB4uwhPWb58OdavX+/t\n",
              "MvxapaEF92z8HjWNRkwbG4vX5qbzkuNEfoin01KvtZosWPLeUdQ0GjEqNgyv/jKVQUHkpxgW1CuC\n",
              "IOCZj3/EyQsGhAcH4K0FExEi9/heTSLyEoYF9crfvtdi57FySMQivDY3HQmqYG+XREQexLCgHjt4\n",
              "rgZrvjgNAHh22k2YlBTl5YqIyNMYFtQjutpmLPvgGCxWAbPS4/HrSRpvl0REfYBhQS5rMprx6LtH\n",
              "UN9sQmpCOP5wXwob2kQDBMOCXGK1CnjqHydReLEB0WFybJk/AYEBPOmRaKBgWJBLNh0owp6CKsgk\n",
              "YmyeNwGDFIHeLomI+hDDgpz66tRFrP/qLADgv2eMwYTECC9XRER9jWFB11VU3YDffnQCALDwZ4mY\n",
              "k3HtizkSkf9iWNA1GZpNePTdo2g0mpE1TIXnfjHa2yURkZcwLKhbFquAJz48jpKaJgwJD8Jrc9MR\n",
              "IOH/LkQDFT/91K0/fnkGuWcvITBAjC0LJiAyVO78h4jIbzEs6Cq7TpTjzdzzAIBXf5mKMYOVXq6I\n",
              "iLyNYUEOCsoNWJHzbwDAY7cNxz2pg71cERH1B24Li9bWVsyYMQMjRoxAamoq7rrrLhQVFQEAqqur\n",
              "MWXKFCQnJyMlJQXffvut/ed6O0buV9NoxKJ3j6DVZMVtI6Px1N0jvV0SEfUTbt2yWLRoEQoLC3Hy\n",
              "5ElMnz4djzzyCABg5cqVyMrKwrlz57B161bMnTsXJpPphsbIvUwWK5a+fwwVhlYMiwrBhgfGQyLm\n",
              "pTyIyMZtYREYGIhp06bZrxWUlZUFrVYLANi+fTuWLFkCAMjIyMDgwYORm5t7Q2PkXr//9BTySvQI\n",
              "k0uxZcFEKIN4C1si6uSxu9Vs2LAB06dPR21tLUwmE2JjY+1jGo0GOp2u12PdMRqNMBqNDsssFoub\n",
              "Z+WfPsjT4b3DpQCAJbcNhyJQCpPFykNlicjOI2GxZs0aFBUVYf/+/WhpafHEW1xl7dq1eOmllxyW\n",
              "ZWVl9cl7+zJBEPDKP8/Yv3/1y0K8+mUhACA8OACqEBmiQuRQhcgQGSpDZKgcke3PVSEyRLV/Hx4s\n",
              "424rIj/m9rBYt24ddu7ciX379iE4OBjBwcGQSqWoqqqybyVotVqo1WpERkb2aqw7q1atwvLlyx2W\n",
              "rV692t3T8zsikQjLbk/C/tPVqG0yQt/UBn1TG6wCUN9sQn2zCecvNbnwOoAqWNYZKiFy+1dVqAxR\n",
              "IR1jckSFyqAIDICY4ULkM0SCIAjuerH169fj/fffx759+xAR0XmxuezsbGg0Grz44ovIz8/HjBkz\n",
              "oNVqERAQ0OsxVyxfvhzr16931/QGDItVQH2zLTRqGm1fa5uM7c+NqG1sQ21TG2obbeFS19zzgw4k\n",
              "YpEtPLqEi21LRQZVe9B0fR4ml/LeGURe5LawuHDhAhISEjBs2DCEhYUBAORyOX744QdcvHgR8+fP\n",
              "R0lJCWQyGTZt2oTbb78dAHo95gqGRd8wW6zQt4dL1yC5MlRqm9pQ02hEQ6u5x+8hk4ihCunccokK\n",
              "7bJrLMRxSyYyVIZgmYThQuRGbt2y6G8YFv2T0WxBXZMJtfatlM5g0Td23YqxBU1TW88PVJBLxbZ+\n",
              "SntvpTNMuu+78EZORNfnsaOhiK5FLpUgVilBrNK1Gyi1miz2IKlpD5Yrd4fV2rdqjGg1WWE0W1Fe\n",
              "34LyetcOsAiWSTq3TOxBYuuvdDzvGjByKcOFBhaGBfV7gQESDAkPwpDwIJfWb24zo7bRtsvrql1j\n",
              "TVfsGmtsQ5vFiuY2C5r1LSjTuxYuYYFS+1ZKZ6/l6t1hkSEyRITIeBgy+TyGBfmdYJkUwSopElTB\n",
              "TtcVBAENRrN991d3Wyv6ps7g0Te1wWwV0NBqRkOrGdraZpdq4mHI5OsYFjSgiUQiKAIDoAgMgCYq\n",
              "xOn6VquAy62mLkFi66/Yn3fpu9Q2tqGumYchk39gWBD1gFgsQniw7V//w6Odr3/lYcgd57I4HIbc\n",
              "ES5NbahvNkEQYN9ddq7a+XvwMGTqCwwLIg+SiEW23U2hciQPcr6+yWJFXfPVu7+u3D2m73IYssUq\n",
              "4FKDEZcajM7fADwMmXqHYUHUjwRIxIgJC0RMmGtHinUchmwPlW5OmrzyMOQ2ixVVl1tRdbnVpfe4\n",
              "3mHI9l4LD0P2ewwLIh/W28OQHRv4xvajx9qfty+vaTTCaOZhyGTDsCAaQHpyGLIgCGhus1y1O6ym\n",
              "ydjexHc8W1/fxMOQ/RnDgoi6JRKJECKXIkTu/sOQO/ouFg8dhhwTJsfw6FD2WtyIYUFEbnGjhyFf\n",
              "uWuspj1oahrboKttRpvFCsD1w5B/PUmDF+4Z45a5EcOCiLzAZLHa+yI1jUb789qmNtQ02IKipsFo\n",
              "3/1ltvbsEnZBARIMcyGwyHUMCyJyiyaj7TIrlxqN9i2CmiuedwRCfS8ua68IlCIqTI6o9pMRbWe8\n",
              "yxEVZutrRLd/jQqTI4SH+7odw4KIumW1CjC02A7LvdT1X//2P/wdWwNG1DS0ocXUs6sDd5xM6PjH\n",
              "X2YPhMhQGaJDO5vcMikb297U78Pi3LlzWLhwIWpqaqBUKvH2229jzBjuhyTqjSt3/9Q0dvQFuv7r\n",
              "v/McjZ7u/gkMELf/8e8SAPavtmXR7c/Dg3iZEl/S78Ni8eLFWLRoEbKzs7Fjxw5kZ2cjPz/f22UR\n",
              "+Yzjujo8+3EByutbYGjp+e6fa4kIDsAgRWD7Q45YRSDCAgMgEYsglYhsX8UiSMRidBztWt9sQkOr\n",
              "GTp9MyRikf0hFYu7rC9yeC4ViyGRiCARdVkusX0VizrX424nz+rXYVFdXY0jR45g7969AIBZs2Zh\n",
              "2bJlKCoqQlJSkperI/INJ8vqcarysttft67ZhLpmE85UNbj9tXvDIWREnYHSNYyuDiIRxFcGU7fL\n",
              "O0NPIhY7Lm8Pso51ugalWNR9cF71Gm4ITolY5NETHPt1WJSVlSEuLg5Sqa1MkUgEtVoNnU53VVgY\n",
              "jUYYjY7XxrFYen6HNSJ/s/BmDdLUEWhsNcMiCLBYrTBbBFisAsxW29eOh+17q8Ny8xVjFisc1jFb\n",
              "BVgsQvtrd3mN9vewL7e/p9W+3L7OFbV0V0fH8mvpWKetD//b9iciEVCy9v947PX7dVj0xNq1a/HS\n",
              "Sy85LMvKyvJSNUT9h0gkQlpCuLfLcAtBEGAV0Bk43QWaPbhsYeM0tHoSit2FmcX2vVUQHL63WK2w\n",
              "CHASztbrhLZjjd3V0ZXUw/2ffn0P7urqaiQlJUGv10MqlUIQBMTFxeHgwYMubVmsXr0aGzZs6MuS\n",
              "iYj6xJXBabYKUAQGeOz9+vWxaDExMUhPT8e2bdsAADk5OYiPj++2XyGXy6FQKBweEgkvUEZE/kkk\n",
              "6uxTBMukHg0KwAd2Q7355pvIzs7GmjVroFAosHXrVm+XREQ04PT7sBg5ciQOHTrk7TKIiAa0fr0b\n",
              "ioiI+od+3eC+UTNnzoRGo+nxz1ksFuTl5SEzM3NA9D04X/820OYLDLw53+h8ExMT8Zvf/Oa66/h1\n",
              "WPTW5cuXoVQqYTAYoFAovF2Ox3G+/m2gzRcYeHPui/lyNxQRETnFsCAiIqcYFkRE5BTDohtyuRwv\n",
              "vPAC5HK5t0vpE5yvfxto8wUG3pz7Yr5scBMRkVPcsiAiIqcYFkRE5BTDgoiInBqwYfHEE09Ao9FA\n",
              "JBLhxIkT11zvr3/9K5KTkzF8+HA8+uijMJncd1vKvuTKfL/55hsEBQUhLS3N/mhpaenbQt2ktbUV\n",
              "M2bMwIgRI5Camoq77roLRUVF3a772WefYdSoUUhOTsbMmTNx+bL77yrnaa7OV6vVQiKROPyOi4uL\n",
              "vVCxe9x9990YN24c0tLScMstt+D48ePdrucvn2NX5uuxz7EwQOXm5gplZWVCYmKicPz48W7XOX/+\n",
              "vBAXFydUVlYKVqtVuOeee4RNmzb1baFu4sp8Dxw4IKSmpvZpXZ7S0tIifP7554LVahUEQRA2btwo\n",
              "TJ48+ar1GhoahJiYGOH06dOCIAjC448/Ljz11FN9WapbuDrfkpISQalU9m1xHlRXV2d/vnPnTmHc\n",
              "uHFXreNPn2NX5uupz/GA3bK49dZbER8ff911duzYgXvvvRexsbEQiURYsmQJPvjggz6q0L1cma8/\n",
              "CQwMxLRp0yAS2e4elpWVBa1We9V6e/bswfjx4zFq1CgAwNKlS33yd+zqfP1NeHi4/bnBYLDPvyt/\n",
              "+hy7Ml9P6feXKPcmnU6HxMRE+/cajQY6nc6LFXlecXEx0tPTIZFI8Otf/xpLly71dklusWHDBkyf\n",
              "Pv2q5d39jisrK2E2m+33fvdF15ovADQ1NSEjIwMWiwUzZszAs88+69MX21uwYAEOHDgAAPjiiy+u\n",
              "Gve3z7Gz+QKe+Rz77qeB3C49PR0XLlyAUqnEhQsXMG3aNERFRWH27NneLu2GrFmzBkVFRdi/f7+3\n",
              "S+kT15tvXFwcysvLERMTA71ejzlz5uBPf/oTfve733mhUvd49913AQDvvPMOVqxYcc0/oP7C2Xw9\n",
              "9TkesLuhXKFWq1FaWmr/XqvVQq1We7Eiz1IoFFAqlQCA+Ph4/OpXv8J3333n5apuzLp167Bz507s\n",
              "2bMHwcHBV4139zuOi4vz2a0KZ/OVy+WIiYkBAKhUKjz00EM+/zvusHDhQhw4cAC1tbUOy/31c3yt\n",
              "+Xrqc8ywuI5Zs2Zh9+7dqKqqgiAI2Lx5Mx544AFvl+UxlZWVsFqtAICGhgZ89tlnGD9+vJer6r31\n",
              "69fjgw8+wFdffeWwr7erKVOm4NixYzhz5gwA4PXXX/fZ37Er862urrYfCWQ0GrFz506f/R3X19ej\n",
              "oqLC/v0nn3yCyMhIqFQqh/X85XPs6nw99jl2e8vcRyxatEgYMmSIIJFIhJiYGGH48OGCIAjCww8/\n",
              "LOzatcu+3pYtW4Rhw4YJw4YNEx566CGhra3NWyXfEFfmu3HjRmH06NHCuHHjhNGjRwsvvPCC/ega\n",
              "X1NWViYAEIYNGyakpqYKqampQmZmpiAIgrB69WrhjTfesK+7a9cuYeTIkcLw4cOF6dOnC/X19d4q\n",
              "u9dcnW9OTo4wZswY++942bJlQmtrqzdL7zWtVitkZGQIKSkpwrhx44Q77rjDfqSfP36OXZ2vpz7H\n",
              "vDYUERE5xd1QRETkFMOCiIicYlgQEZFTDAsiInKKYUFERE4xLIiIyCmGBREROcWwICIipxgWRETk\n",
              "FMOCiIicYlgQEZFT/x9Ub4oGMsc4rgAAAABJRU5ErkJggg==\n",
              "\">\n",
              "        \n",
              "      </div>\n",
              "      <script></script>\n",
              "      <script type=\"text/javascript\">\n",
              "        (() => {\n",
              "          const chartElement = document.getElementById(\"chart-6a7f2c4c-f5db-4e2f-bad0-17127b4038f8\");\n",
              "          async function getCodeForChartHandler(event) {\n",
              "            const chartCodeResponse =  await google.colab.kernel.invokeFunction(\n",
              "                'getCodeForChart', [\"chart-6a7f2c4c-f5db-4e2f-bad0-17127b4038f8\"], {});\n",
              "            const responseJson = chartCodeResponse.data['application/json'];\n",
              "            await google.colab.notebook.addCell(responseJson.code, 'code');\n",
              "          }\n",
              "          chartElement.onclick = getCodeForChartHandler;\n",
              "        })();\n",
              "      </script>\n",
              "      <style>\n",
              "        .colab-quickchart-chart-with-code  {\n",
              "            display: block;\n",
              "            float: left;\n",
              "            border: 1px solid transparent;\n",
              "        }\n",
              "\n",
              "        .colab-quickchart-chart-with-code:hover {\n",
              "            cursor: pointer;\n",
              "            border: 1px solid #aaa;\n",
              "        }\n",
              "      </style>"
            ]
          },
          "metadata": {}
        },
        {
          "output_type": "display_data",
          "data": {
            "text/plain": [
              "<google.colab._quickchart_helpers.SectionTitle at 0x7f77c9587520>"
            ],
            "text/html": [
              "<h4 class=\"colab-quickchart-section-title\">Distributions</h4>\n",
              "<style>\n",
              "  .colab-quickchart-section-title {\n",
              "      clear: both;\n",
              "  }\n",
              "</style>"
            ]
          },
          "metadata": {}
        },
        {
          "output_type": "display_data",
          "data": {
            "text/plain": [
              "import numpy as np\n",
              "from google.colab import autoviz\n",
              "\n",
              "def histogram(df, colname, num_bins=20, figscale=1):\n",
              "  from matplotlib import pyplot as plt\n",
              "  df[colname].plot(kind='hist', bins=num_bins, title=colname, figsize=(8*figscale, 4*figscale))\n",
              "  plt.gca().spines[['top', 'right',]].set_visible(False)\n",
              "  plt.tight_layout()\n",
              "  return autoviz.MplChart.from_current_mpl_state()\n",
              "\n",
              "chart = histogram(_df_1, *['floors'], **{})\n",
              "chart"
            ],
            "text/html": [
              "      <div class=\"colab-quickchart-chart-with-code\" id=\"chart-a0d11895-9ebc-474e-86fd-a328f7108a1d\">\n",
              "        <img src=\"data:image/png;base64,iVBORw0KGgoAAAANSUhEUgAAAYwAAADECAYAAACMRRb/AAAAOXRFWHRTb2Z0d2FyZQBNYXRwbG90\n",
              "bGliIHZlcnNpb24zLjcuMSwgaHR0cHM6Ly9tYXRwbG90bGliLm9yZy/bCgiHAAAACXBIWXMAAA9h\n",
              "AAAPYQGoP6dpAAAXQ0lEQVR4nO3de1BU5/0G8GeFuEFhuSsYbsIumhQFlsBsxGrSlonYDlB0rCbO\n",
              "CCmCQYY6pk1iOzZiHLBt6sQ6Q4XoGKem1hQwpRjMxRiLrRfAgFFGBRQWFCENlMsUl9v7+4Nmf9kI\n",
              "5OzCgYV9PjNnxj3n3XO+77wHnzn77p6jEEIIEBERfYtZU10AERFNDwwMIiKShIFBRESSMDCIiEgS\n",
              "BgYREUnCwCAiIkkYGEREJAkDg4iIJGFgEBGRJAwMojH09/fj+eefh5ubGxwdHeHq6opDhw5NdVlE\n",
              "U4KBQTSGgoICnD17Fg0NDejp6YGzs/NUl0Q0ZRgYRGOor69HYGAgVCrVpByvr69vUo5DZAkGBtEo\n",
              "kpKSsHv3bly4cAGOjo6IjY19qM2FCxfw3e9+F66urli4cCFeffVVGAwG4/a7d+9i3bp1mD9/PubP\n",
              "n4+f/OQnuHfvnskx1q1bhxdffBGenp6Ij49HX18f0tPT4eXlBScnJwQEBODAgQOT0meisTAwiEbx\n",
              "9ttv45e//CWeeuop9PT0oLS01GS7Xq/HD37wA6xZswatra348MMP8fe//x2vvPIKAGBwcBA/+tGP\n",
              "YGdnh1u3buHmzZsQQiAuLg6Dg4PG/Zw8eRKRkZG4d+8eCgsLcfToUVy4cAHXrl1Dd3c3Ll68iOjo\n",
              "6EntO9FIGBhEFnrnnXcQHByMbdu2Yfbs2dBoNNizZw/y8/MhhMDly5dRXV2N3NxcODs7w8XFBX/8\n",
              "4x9x5coVlJeXG/fz5JNP4oUXXsAjjzyCOXPmYPbs2ejp6UFNTQ36+/vh5eUFrVY7hT0lGsbAILJQ\n",
              "U1MTgoKCTNap1Wr09vbiiy++QFNTE9zc3ODq6mrc7u7uDldXV+j1euO6hQsXmuxj48aNSEtLwy9+\n",
              "8Qt4eHggNjYWlZWV8naGSAIGBpGFfH19cfv2bZN19fX1cHBwgKenJ3x9fdHR0YGOjg7j9vb2dnR0\n",
              "dMDPz8+4btYs0z9DOzs7/PznP8elS5dw9+5dPP7444iPj5e3M0QSMDCILPTcc8/h5s2bOHDgAPr6\n",
              "+lBfX4+dO3ciJSUFCoUCUVFRCAkJQUZGBrq6utDZ2YmtW7ciLCwMkZGRo+73k08+QUVFBfr6+vDo\n",
              "o4/C0dERdnZ2k9gzopExMIgs5O/vjw8//BAnTpzAvHnz8L3vfQ+xsbH47W9/C2D4SqGkpAQGgwFq\n",
              "tRoajQYDAwMoLi4eMwDa2tqQlJQENzc3eHp64ty5cygoKJisbhGNSsFnehMRkRS8wiAiIkkYGERE\n",
              "JAkDg4iIJGFgEBGRJAwMIiKShIFBRESSMDCIiEiSGREY+/fvn+oSiIhmvBkRGI2NjVNdAhHRjDcj\n",
              "AoOIiOQnW2A8ePAACQkJCA4ORmhoKGJiYlBXVzdi25KSEixevBgajQaJiYno6uqSqywiIrKQrFcY\n",
              "qampuHnzJqqrqxEfH4+UlJSH2vT09OCnP/0p3nvvPdTW1mLBggV4/fXX5SyLiIgsIFtgPProo1i9\n",
              "ejUUCgUAQKfToaGh4aF2paWlCA8Px+LFiwEA6enpOH78uFxlERGRhewn60D79+8f8SEwer0e/v7+\n",
              "xtcBAQFoaWnBwMAA7O0fLs9gMMBgMJis+/rzkYmISB6TEhjZ2dmoq6vDmTNnxr2vnJwcZGVlmazT\n",
              "6XQW7y/g1VPjqqdh7w/H9X4ioulC9m9JvfHGGygqKkJpaSnmzJnz0HY/Pz+Tr8U2NDTA29t7xKsL\n",
              "ANixYwc6OztNlqioKNnqJyKiYbIGxr59+3D8+HF89NFHcHFxGbHNqlWrcOXKFdy4cQMAkJubi/Xr\n",
              "14+6T6VSCZVKZbLw8ZVERPKT7SOp5uZmvPTSSwgMDMQzzzwDYPg/+0uXLuHXv/41FixYgC1btsDJ\n",
              "yQmHDh1CQkICBgYGEBISgqNHj8pVFhERWUi2wPDx8cFoT3/dvXu3yeu4uDjExcXJVQoREU0A/tKb\n",
              "iIgkYWAQEZEkDAwiIpKEgUFERJIwMIiISBIGBhERScLAICIiSRgYREQkCQODiIgkYWAQEZEkDAwi\n",
              "IpKEgUFERJIwMIiISBIGBhERScLAICIiSRgYREQkCQODiIgkYWAQEZEkDAwiIpKEgUFERJIwMIiI\n",
              "SBIGBhERScLAICIiSRgYREQkiayBkZmZiYCAACgUClRVVY3Y5tNPP4WDgwPCwsKMS29vr5xlERGR\n",
              "Bezl3PnatWvx8ssvY/ny5WO2W7Ro0aiBQkRE1kHWwFixYoWcuyciokkka2BIVV9fD61WCzs7OyQn\n",
              "JyM9PX3UtgaDAQaDwWTd4OCg3CUSEdm8KQ8MrVaL5uZmODs7o7m5GatXr4aHhwfWrVs3YvucnBxk\n",
              "ZWWZrNPpdJNRKhGRTZvyb0mpVCo4OzsDAHx8fLBhwwaUlZWN2n7Hjh3o7Ow0WaKioiarXCIimzXl\n",
              "gdHS0oKhoSEAQHd3N0pKShAeHj5qe6VSCZVKZbLY2dlNVrlERDbL7MD44IMPJLdNS0uDj48Pmpub\n",
              "8eyzz0KtVgMAUlJSUFxcDAAoLCzEkiVLEBoaCp1Oh5iYGCQnJ5tbFhERyUwhhBDmvCE6Ohr//ve/\n",
              "kZ6ejuTkZKhUKrlqk2z79u3Yt2+fRe8NePXUuI7dsPeH43o/EdF0YfYVxj//+U/85S9/wbVr1xAc\n",
              "HIz09HTU1NTIURsREVkRi+YwwsPD8dZbb+H06dMoKSnB0qVLERMTg88//3yi6yMiIithUWB8/PHH\n",
              "iI+PR2JiIrZu3Yr79+8jLS0NP/7xjye6PiIishJm/w7j8ccfh4eHBzIzM5GYmGj8htLatWtx+PDh\n",
              "CS+QiIisg9mBcezYMURERIy4rbS0dNwFERGRdTL7I6nKykq0t7cbX3/55Zd46623JrQoIiKyPmYH\n",
              "Rm5uLtzc3Iyv3d3dkZubO6FFERGR9TE7MEb62QZv/kdENPOZHRje3t549913ja9PnDgBb2/vCS2K\n",
              "iIisj9mT3m+++Sbi4+Px8ssvAwDmzJmDv/3tbxNeGBERWRezA2Px4sWoqanBzZs3AQw/LY83/yMi\n",
              "mvkseh6GQqGAi4sLBgYGcPfuXQCAn5/fhBZGRETWxezAePvtt5GZmYlHHnkEs2YNT4EoFAq0tbVN\n",
              "eHFERGQ9zA6M119/HeXl5Vi0aJEc9RARkZUy+1tSHh4eDAsiIhtkdmAkJCTgzTffRFtbG7q6uowL\n",
              "ERHNbGZ/JPWrX/0KwPBDixQKBYQQUCgU/PEeEdEMZ3ZgfPX8bSIisi0WPQ+jsrISf/rTnwAA//nP\n",
              "f9DS0jKhRRERkfWx6OaDL7zwAnbt2gVg+G61zz333ETXRUREVsbswMjPz8fFixehUqkAAEFBQfji\n",
              "iy8mvDAiIrIuZgeGUqmEg4ODyTp7e4t+ME5ERNOI2YHh6emJW7duQaFQABj+5TdvC0JENPNZdLfa\n",
              "DRs24MaNG/D19YVKpUJJSYkctRERkRUx+wpDrVbj0qVLqKysxAcffICrV69i4cKFI7bNzMxEQEAA\n",
              "FAoFqqqqRt3n4cOHodFoEBQUhM2bN6O/v9/csoiISGZmB4Zer0dzczPmzp0LR0dH3L17F3q9fsS2\n",
              "a9euxfnz5+Hv7z/q/u7cuYOdO3eirKwMdXV1aG1tRX5+vrllERGRzMz+SCoiIsL4C+8HDx7gv//9\n",
              "L9zd3Ue8W+2KFSu+dX8FBQWIi4uDl5cXAGDLli3Izs7G1q1bzS2NiIhkZHZgfPMrtEVFRaiurra4\n",
              "AL1eb3IFEhAQMOoVCwAYDAYYDAaTdbwtCRGR/Mb9fdjExERkZ2cjKytrIur5Vjk5OQ8dS6fTTcqx\n",
              "RxLw6imL39uw94fT7rhEk8EWz+/x9BmYnH6bPYfx9TvUdnR04PTp0+O6W62fnx8aGxuNrxsaGsb8\n",
              "mu6OHTvQ2dlpskRFRVl8fCIiksbsKwwXFxfjHIadnR00Gg3+8Ic/WFzAmjVrsHz5cuzatQvz58/H\n",
              "wYMHsX79+lHbK5VKKJVKk3V8pjgRkfzMvsIYGhrC4OAghoaG0N/fj5qaGqxatWrEtmlpafDx8UFz\n",
              "czOeffZZqNVqAEBKSgqKi4sBAIGBgcjKykJ0dDTUajU8PT2RlpY2ji4REZEcZL2nR15e3ojrDx06\n",
              "ZPJ68+bN2Lx5s5ylEBHROJkdGLNmzTLeFuTr+CAlIqKZzezA2L17N3p7e/Hiiy8CAA4ePAgHBwds\n",
              "27ZtomsjIiIrYnZgnDx5EpWVlcbXe/bsQUREhPHRrURENDOZPend3d1t8qvutrY2dHd3T2hRRERk\n",
              "fcy+wnjppZcQGhqK1atXAwBOnz5tfPoeERHNXGYHRlpaGqKjo3H27FkAwPbt2/Gd73xnwgsjIiLr\n",
              "YtHXat3d3bFkyRI8/fTTGBgYQF9fH2bPnj3RtRERkRUxew6joKAAOp0OycnJAIDr168jISFhousi\n",
              "IiIrY3Zg5OTk4MqVK3BxcQEAhIaGmtwLioiIZiazA8POzg7u7u4m6/hxFBHRzGd2YDg5OaG1tdX4\n",
              "a+8zZ87Azc1twgsjIiLrYvak929+8xvExsbi9u3bWL58Oe7cuYNTp8Z3H3ciIrJ+ZgXGV3eqPXv2\n",
              "LP71r39BCIFly5YZ5zOIiGjmMiswZs2ahdTUVFRXVyM2NlaumoiIyAqZPYeh0WhQV1cnRy1ERGTF\n",
              "zJ7DaG9vR1hYGJYtWwZHR0fj+qKiogktjIiIrIvkwEhNTUV+fj42bdqEuLg4uLq6ylkXERFZGcmB\n",
              "UVFRAQDYtGkTtFotrly5IltRRERkfcyewwCGn65HRES2RfIVRm9vLz7//HMIIfDgwQPjv7+ydOlS\n",
              "WQokIiLrYFZgxMXFGV9//d8KhQK3b9+e2MqIiMiqSA6MhoYGGcsgIiJrZ9EcBhER2R5ZA6O2thbL\n",
              "li1DcHAwIiMjcf369YfafPrpp3BwcEBYWJhx6e3tlbMsIiKygEVP3JMqLS0NqampSEpKQkFBAZKS\n",
              "klBeXv5Qu0WLFqGqqkrOUoiIaJxku8Joa2tDRUUFNm7cCABYs2YNmpqaeFsRIqJpSrbAaGpqgre3\n",
              "N+zthy9iFAoF/Pz8oNfrH2pbX18PrVaLyMhI5Obmjrlfg8GArq4uk2VwcFCWPhAR0f+T9SMpKbRa\n",
              "LZqbm+Hs7Izm5masXr0aHh4eWLdu3Yjtc3JykJWVZbJOp9NNRqlERDZNtisMX19ftLS0YGBgAMDw\n",
              "r8P1ej38/PxM2qlUKjg7OwMAfHx8sGHDBpSVlY263x07dqCzs9NkiYqKkqsbRET0P7IFxrx586DV\n",
              "anHs2DEAQGFhIXx8fKBWq03atbS0YGhoCADQ3d2NkpIShIeHj7pfpVIJlUplstjZ2cnVDSIi+h9Z\n",
              "v1abl5eHvLw8BAcHY+/evThy5AgAICUlBcXFxQCGg2TJkiUIDQ2FTqdDTEwMkpOT5SyLiIgsIOsc\n",
              "xqJFi3DhwoWH1h86dMj474yMDGRkZMhZBhERTQD+0puIiCRhYBARkSQMDCIikoSBQUREkjAwiIhI\n",
              "EgYGERFJwsAgIiJJGBhERCQJA4OIiCRhYBARkSQMDCIikoSBQUREkjAwiIhIEgYGERFJwsAgIiJJ\n",
              "GBhERCQJA4OIiCRhYBARkSQMDCIikoSBQUREkjAwiIhIEgYGERFJwsAgIiJJGBhERCSJrIFRW1uL\n",
              "ZcuWITg4GJGRkbh+/fqI7Q4fPgyNRoOgoCBs3rwZ/f39cpZFREQWkDUw0tLSkJqailu3buGVV15B\n",
              "UlLSQ23u3LmDnTt3oqysDHV1dWhtbUV+fr6cZRERkQVkC4y2tjZUVFRg48aNAIA1a9agqakJdXV1\n",
              "Ju0KCgoQFxcHLy8vKBQKbNmyBcePH5erLCIispC9XDtuamqCt7c37O2HD6FQKODn5we9Xg+1Wm1s\n",
              "p9fr4e/vb3wdEBAAvV4/6n4NBgMMBoPJusHBwQmunoiIvkm2wJBLTk4OsrKyTNYtXrwY27dvN3tf\n",
              "g4OD8L58GVFRUbCzs5uoEiXbvv2Mxe9NlNhucHAQl7/Rx/Ec11qN1M+Zxhb6CIz/73I6nN8jjaXU\n",
              "v+nRjKff/v7++NnPfvat7RRCCGHxUcbQ1tYGtVqN9vZ22NvbQwgBb29vnD9/3uQK43e/+x3q6+tx\n",
              "8OBBAMD777+P7OxsnD9/fsT9jnSFoVQqoVQqza6xq6sLzs7O6OzshEqlMvv904Et9BGwjX7aQh8B\n",
              "2+jndO2jbHMY8+bNg1arxbFjxwAAhYWF8PHxMQkLYHhuo7i4GPfv34cQAgcPHsT69etH3a9SqYRK\n",
              "pTJZLAkLIiIyj6zfksrLy0NeXh6Cg4Oxd+9eHDlyBACQkpKC4uJiAEBgYCCysrIQHR0NtVoNT09P\n",
              "pKWlyVkWERFZQLaPpKaD6XpZaA5b6CNgG/20hT4CttHP6dpHm/6lt1KpxGuvvTajP9KyhT4CttFP\n",
              "W+gjYBv9nK59tOkrDCIiks6mrzCIiEg6BgYREUnCwCAiIklsNjCk3knX2jx48AAJCQkIDg5GaGgo\n",
              "YmJijPfnamtrw6pVq6DRaBASEoJ//OMfxvdZum2qHTlyBAqFAu+99x6AmddHg8GAjIwMaDQaLFmy\n",
              "xHjvtbHOT0u3TZX3338fWq0WYWFhCAkJwdGjRwFM/7HMzMxEQEAAFAoFqqqqjOvlGDurGVdho555\n",
              "5hlx5MgRIYQQf/3rX8WTTz45tQVJ1NvbK06dOiWGhoaEEEIcOHBArFy5UgghRHJysnjttdeEEEJc\n",
              "vnxZPPbYY6Kvr29c26bSnTt3xFNPPSV0Op04efKkEGLm9XHbtm0iIyPDOJ4tLS1CiLHPT0u3TYWh\n",
              "oSHh6uoqqqurhRDDY6pUKkVXV9e0H8tz586JpqYm4e/vLz777DPjejnGzlrG1SYDo7W1VTg5OYn+\n",
              "/n4hxPBJPX/+fFFbWzvFlZmvvLxc+Pv7CyGEmDt3rvE/HCGEiIyMFB999NG4tk2VwcFB8f3vf19U\n",
              "VFSIlStXGgNjJvWxp6dHODk5ic7OTpP1Y52flm6bKkNDQ8LNzU2cO3dOCCFEdXW1WLBggTAYDDNm\n",
              "LL8eGHKMnTWN67S7+eBEkHon3elg//79iI+Px5dffon+/n54eXkZt311519Lt02lffv2ITo6GhER\n",
              "EcZ1M62P9fX1cHNzQ3Z2Nj7++GM4ODhg165dcHFxGfX8dHZ2tmjbVJ3XCoUCJ06cQGJiIubOnYuO\n",
              "jg4UFRWhu7t7Ro3lV8b6v8XSsbOmcbXJwJgpsrOzUVdXhzNnzqC3t3eqy5kw165dQ2FhodXMM8hl\n",
              "YGAAjY2NeOKJJ7B371589tlniImJwalTp6a6tAkzMDCAPXv2oKioCCtWrEB5eTni4uJMPvOn6cMm\n",
              "J719fX3R0tKCgYEBAIAQAnq9Hn5+flNcmXRvvPEGioqKUFpaijlz5sDd3R329va4f/++sU1DQwP8\n",
              "/Pws3jZVysrK0NDQAI1Gg4CAAFy8eBGpqal49913Z0wfAcDPzw+zZs3C888/DwAIDw/HwoUL0djY\n",
              "OOr5Oda5a43ndVVVFe7du4cVK1YAACIjI+Hj44OrV6/OqLH8iqXjM23GddI/BLMSK1euNJlEioiI\n",
              "mNqCzPD73/9eaLVa0d7ebrJ+06ZNJpOBCxYsME4GWrrNGnx9DmOm9TEmJkacOnVKCCHE7du3hbu7\n",
              "u2hubh7z/LR021S4f/++cHR0FDU1NUIIIWpra4Wrq6tobGycMWP5zUlvOcbOWsbVZgPjxo0bQqfT\n",
              "CY1GIyIiIsTVq1enuiRJmpqaBAARGBgoQkNDRWhoqIiKihJCDP9xxsTECLVaLZ544gnxySefGN9n\n",
              "6TZr8PXAmGl9rK+vF08//bQICQkRS5cuFQUFBUKIsc9PS7dNlT//+c/G/oWEhIh33nlHCDH9xzI1\n",
              "NVU89thjws7OTsybN08EBQUJIeQZO2sZV95LioiIJLHJOQwiIjIfA4OIiCRhYBARkSQMDCIikoSB\n",
              "QUREkjAwiIhIEgYGERFJwsAgIiJJGBhERCQJA4OIiCRhYBARkST/B/nNA9EZPJD7AAAAAElFTkSu\n",
              "QmCC\n",
              "\">\n",
              "        \n",
              "      </div>\n",
              "      <script></script>\n",
              "      <script type=\"text/javascript\">\n",
              "        (() => {\n",
              "          const chartElement = document.getElementById(\"chart-a0d11895-9ebc-474e-86fd-a328f7108a1d\");\n",
              "          async function getCodeForChartHandler(event) {\n",
              "            const chartCodeResponse =  await google.colab.kernel.invokeFunction(\n",
              "                'getCodeForChart', [\"chart-a0d11895-9ebc-474e-86fd-a328f7108a1d\"], {});\n",
              "            const responseJson = chartCodeResponse.data['application/json'];\n",
              "            await google.colab.notebook.addCell(responseJson.code, 'code');\n",
              "          }\n",
              "          chartElement.onclick = getCodeForChartHandler;\n",
              "        })();\n",
              "      </script>\n",
              "      <style>\n",
              "        .colab-quickchart-chart-with-code  {\n",
              "            display: block;\n",
              "            float: left;\n",
              "            border: 1px solid transparent;\n",
              "        }\n",
              "\n",
              "        .colab-quickchart-chart-with-code:hover {\n",
              "            cursor: pointer;\n",
              "            border: 1px solid #aaa;\n",
              "        }\n",
              "      </style>"
            ]
          },
          "metadata": {}
        }
      ],
      "source": [
        "df['floors'].value_counts().to_frame()\n"
      ]
    },
    {
      "cell_type": "markdown",
      "metadata": {
        "id": "fxs_C-fzah6C"
      },
      "source": [
        "### Question 4\n",
        "\n",
        "Use the function <code>boxplot</code> in the seaborn library  to  determine whether houses with a waterfront view or without a waterfront view have more price outliers.\n"
      ]
    },
    {
      "cell_type": "code",
      "execution_count": 13,
      "metadata": {
        "jupyter": {
          "outputs_hidden": false
        },
        "colab": {
          "base_uri": "https://localhost:8080/",
          "height": 482
        },
        "id": "OZDZYQRfah6C",
        "outputId": "51ee9e8b-9ab0-4d89-d19a-6929965175f9"
      },
      "outputs": [
        {
          "output_type": "execute_result",
          "data": {
            "text/plain": [
              "<Axes: xlabel='waterfront', ylabel='price'>"
            ]
          },
          "metadata": {},
          "execution_count": 13
        },
        {
          "output_type": "display_data",
          "data": {
            "text/plain": [
              "<Figure size 640x480 with 1 Axes>"
            ],
            "image/png": "[encoded data removed]"
          },
          "metadata": {}
        }
      ],
      "source": [
        "sns.boxplot(x='waterfront',y='price',data=df)\n"
      ]
    },
    {
      "cell_type": "markdown",
      "metadata": {
        "id": "Q7U38zfiah6D"
      },
      "source": [
        "### Question 5\n",
        "\n",
        "Use the function <code>regplot</code>  in the seaborn library  to  determine if the feature <code>sqft_above</code> is negatively or positively correlated with price.\n"
      ]
    },
    {
      "cell_type": "code",
      "execution_count": 16,
      "metadata": {
        "jupyter": {
          "outputs_hidden": false
        },
        "colab": {
          "base_uri": "https://localhost:8080/",
          "height": 497
        },
        "id": "UHm5k6F4ah6D",
        "outputId": "ba84986b-285f-4a4a-b340-4b1338cc5f00"
      },
      "outputs": [
        {
          "output_type": "execute_result",
          "data": {
            "text/plain": [
              "<Axes: xlabel='sqft_above', ylabel='price'>"
            ]
          },
          "metadata": {},
          "execution_count": 16
        },
        {
          "output_type": "display_data",
          "data": {
            "text/plain": [
              "<Figure size 900x500 with 1 Axes>"
            ],
            "image/png": "[encoded data removed]"
          },
          "metadata": {}
        }
      ],
      "source": [
        "plt.figure(figsize=(9,5))\n",
        "sns.regplot(x='sqft_above',y='price',data=df)"
      ]
    },
    {
      "cell_type": "markdown",
      "metadata": {
        "id": "f9Kwx2YBah6D"
      },
      "source": [
        "We can use the Pandas method <code>corr()</code>  to find the feature other than price that is most correlated with price.\n"
      ]
    },
    {
      "cell_type": "code",
      "execution_count": 15,
      "metadata": {
        "jupyter": {
          "outputs_hidden": false
        },
        "colab": {
          "base_uri": "https://localhost:8080/"
        },
        "id": "Eo3sp41iah6D",
        "outputId": "1e753e44-1b98-4e46-b08c-b7fe327bbf78"
      },
      "outputs": [
        {
          "output_type": "stream",
          "name": "stderr",
          "text": [
            "<ipython-input-15-78b4f396fb2c>:1: FutureWarning: The default value of numeric_only in DataFrame.corr is deprecated. In a future version, it will default to False. Select only valid columns or specify the value of numeric_only to silence this warning.\n",
            "  df.corr()['price'].sort_values()\n"
          ]
        },
        {
          "output_type": "execute_result",
          "data": {
            "text/plain": [
              "zipcode         -0.053203\n",
              "long             0.021626\n",
              "condition        0.036362\n",
              "yr_built         0.054012\n",
              "sqft_lot15       0.082447\n",
              "sqft_lot         0.089661\n",
              "yr_renovated     0.126434\n",
              "floors           0.256794\n",
              "waterfront       0.266369\n",
              "lat              0.307003\n",
              "bedrooms         0.308797\n",
              "sqft_basement    0.323816\n",
              "view             0.397293\n",
              "bathrooms        0.525738\n",
              "sqft_living15    0.585379\n",
              "sqft_above       0.605567\n",
              "grade            0.667434\n",
              "sqft_living      0.702035\n",
              "price            1.000000\n",
              "Name: price, dtype: float64"
            ]
          },
          "metadata": {},
          "execution_count": 15
        }
      ],
      "source": [
        "df.corr()['price'].sort_values()"
      ]
    },
    {
      "cell_type": "markdown",
      "metadata": {
        "id": "c3irsb8Wah6D"
      },
      "source": [
        "# Module 4: Model Development\n"
      ]
    },
    {
      "cell_type": "markdown",
      "metadata": {
        "id": "3Xz_yddZah6D"
      },
      "source": [
        "We can Fit a linear regression model using the  longitude feature <code>'long'</code> and  caculate the R^2.\n"
      ]
    },
    {
      "cell_type": "code",
      "execution_count": 17,
      "metadata": {
        "jupyter": {
          "outputs_hidden": false
        },
        "colab": {
          "base_uri": "https://localhost:8080/"
        },
        "id": "7nfaLqObah6D",
        "outputId": "3ff4af99-5af7-4668-e659-1ff6b6fe1be5"
      },
      "outputs": [
        {
          "output_type": "execute_result",
          "data": {
            "text/plain": [
              "0.00046769430149007363"
            ]
          },
          "metadata": {},
          "execution_count": 17
        }
      ],
      "source": [
        "X = df[['long']]\n",
        "Y = df['price']\n",
        "lm = LinearRegression()\n",
        "lm.fit(X,Y)\n",
        "lm.score(X, Y)"
      ]
    },
    {
      "cell_type": "markdown",
      "metadata": {
        "id": "j5CPY9u2ah6D"
      },
      "source": [
        "### Question  6\n",
        "\n",
        "Fit a linear regression model to predict the <code>'price'</code> using the feature <code>'sqft_living'</code> then calculate the R^2. Take a screenshot of your code and the value of the R^2.\n"
      ]
    },
    {
      "cell_type": "code",
      "execution_count": 18,
      "metadata": {
        "jupyter": {
          "outputs_hidden": false
        },
        "colab": {
          "base_uri": "https://localhost:8080/"
        },
        "id": "gal8Ih2wah6E",
        "outputId": "233c4fab-ed64-4fbd-e720-a6a215a0d9f3"
      },
      "outputs": [
        {
          "output_type": "execute_result",
          "data": {
            "text/plain": [
              "0.4928532179037931"
            ]
          },
          "metadata": {},
          "execution_count": 18
        }
      ],
      "source": [
        "X = df[['sqft_living']]\n",
        "Y = df['price']\n",
        "lm = LinearRegression()\n",
        "lm.fit(X,Y)\n",
        "lm.score(X,Y)"
      ]
    },
    {
      "cell_type": "markdown",
      "metadata": {
        "id": "8E-sMDT0ah6E"
      },
      "source": [
        "### Question 7\n",
        "\n",
        "Fit a linear regression model to predict the <code>'price'</code> using the list of features:\n"
      ]
    },
    {
      "cell_type": "code",
      "execution_count": 19,
      "metadata": {
        "id": "RDnA-EjXah6E"
      },
      "outputs": [],
      "source": [
        "features =[\"floors\", \"waterfront\",\"lat\" ,\"bedrooms\" ,\"sqft_basement\" ,\"view\" ,\"bathrooms\",\"sqft_living15\",\"sqft_above\",\"grade\",\"sqft_living\"]"
      ]
    },
    {
      "cell_type": "markdown",
      "metadata": {
        "id": "MjdbrWj5ah6F"
      },
      "source": [
        "Then calculate the R^2. Take a screenshot of your code.\n"
      ]
    },
    {
      "cell_type": "code",
      "execution_count": 20,
      "metadata": {
        "jupyter": {
          "outputs_hidden": false
        },
        "colab": {
          "base_uri": "https://localhost:8080/"
        },
        "id": "nCKVbVfpah6F",
        "outputId": "1bfecd13-e5bc-4c6c-fcab-602b8dabc857"
      },
      "outputs": [
        {
          "output_type": "execute_result",
          "data": {
            "text/plain": [
              "0.6576722447699446"
            ]
          },
          "metadata": {},
          "execution_count": 20
        }
      ],
      "source": [
        "X = df[features]\n",
        "Y = df['price']\n",
        "lm = LinearRegression()\n",
        "lm.fit(X,Y)\n",
        "lm.score(X,Y)"
      ]
    },
    {
      "cell_type": "markdown",
      "metadata": {
        "id": "QTRb4791ah6F"
      },
      "source": [
        "### This will help with Question 8\n",
        "\n",
        "Create a list of tuples, the first element in the tuple contains the name of the estimator:\n",
        "\n",
        "<code>'scale'</code>\n",
        "\n",
        "<code>'polynomial'</code>\n",
        "\n",
        "<code>'model'</code>\n",
        "\n",
        "The second element in the tuple  contains the model constructor\n",
        "\n",
        "<code>StandardScaler()</code>\n",
        "\n",
        "<code>PolynomialFeatures(include_bias=False)</code>\n",
        "\n",
        "<code>LinearRegression()</code>\n"
      ]
    },
    {
      "cell_type": "code",
      "execution_count": 21,
      "metadata": {
        "id": "d__oIlICah6F"
      },
      "outputs": [],
      "source": [
        "Input=[('scale',StandardScaler()),('polynomial', PolynomialFeatures(include_bias=False)),('model',LinearRegression())]"
      ]
    },
    {
      "cell_type": "markdown",
      "metadata": {
        "id": "pp9tLUV4ah6F"
      },
      "source": [
        "### Question 8\n",
        "\n",
        "Use the list to create a pipeline object to predict the 'price', fit the object using the features in the list <code>features</code>, and calculate the R^2.\n"
      ]
    },
    {
      "cell_type": "code",
      "execution_count": 22,
      "metadata": {
        "jupyter": {
          "outputs_hidden": false
        },
        "colab": {
          "base_uri": "https://localhost:8080/"
        },
        "id": "Bm3OCUniah6F",
        "outputId": "d8a778e8-8f53-405d-f3d2-01daf1001da4"
      },
      "outputs": [
        {
          "output_type": "execute_result",
          "data": {
            "text/plain": [
              "0.7513410648797747"
            ]
          },
          "metadata": {},
          "execution_count": 22
        }
      ],
      "source": [
        "Z = df[features]\n",
        "Y = df['price']\n",
        "pipe = Pipeline(Input)\n",
        "pipe.fit(Z,Y)\n",
        "ypipe=pipe.predict(Z)\n",
        "pipe.score(Z,Y)"
      ]
    },
    {
      "cell_type": "markdown",
      "metadata": {
        "id": "Onq7urDVah6F"
      },
      "source": [
        "# Module 5: Model Evaluation and Refinement\n"
      ]
    },
    {
      "cell_type": "markdown",
      "metadata": {
        "id": "IRh6uA0iah6F"
      },
      "source": [
        "Import the necessary modules:\n"
      ]
    },
    {
      "cell_type": "code",
      "execution_count": 23,
      "metadata": {
        "jupyter": {
          "outputs_hidden": false
        },
        "colab": {
          "base_uri": "https://localhost:8080/"
        },
        "id": "7vSD75Ejah6F",
        "outputId": "eae3a8df-9f4c-44c4-cde1-8470eb3e2764"
      },
      "outputs": [
        {
          "output_type": "stream",
          "name": "stdout",
          "text": [
            "done\n"
          ]
        }
      ],
      "source": [
        "from sklearn.model_selection import cross_val_score\n",
        "from sklearn.model_selection import train_test_split\n",
        "print(\"done\")"
      ]
    },
    {
      "cell_type": "markdown",
      "metadata": {
        "id": "w3XbFi10ah6F"
      },
      "source": [
        "We will split the data into training and testing sets:\n"
      ]
    },
    {
      "cell_type": "code",
      "execution_count": 24,
      "metadata": {
        "jupyter": {
          "outputs_hidden": false
        },
        "colab": {
          "base_uri": "https://localhost:8080/"
        },
        "id": "m3A9wDZpah6F",
        "outputId": "5e5cd954-e559-498c-9de0-3949f94347d2"
      },
      "outputs": [
        {
          "output_type": "stream",
          "name": "stdout",
          "text": [
            "number of test samples: 3242\n",
            "number of training samples: 18371\n"
          ]
        }
      ],
      "source": [
        "features =[\"floors\", \"waterfront\",\"lat\" ,\"bedrooms\" ,\"sqft_basement\" ,\"view\" ,\"bathrooms\",\"sqft_living15\",\"sqft_above\",\"grade\",\"sqft_living\"]\n",
        "X = df[features]\n",
        "Y = df['price']\n",
        "\n",
        "x_train, x_test, y_train, y_test = train_test_split(X, Y, test_size=0.15, random_state=1)\n",
        "\n",
        "\n",
        "print(\"number of test samples:\", x_test.shape[0])\n",
        "print(\"number of training samples:\",x_train.shape[0])"
      ]
    },
    {
      "cell_type": "markdown",
      "metadata": {
        "id": "8YDiOE6Fah6G"
      },
      "source": [
        "### Question 9\n",
        "\n",
        "Create and fit a Ridge regression object using the training data, set the regularization parameter to 0.1, and calculate the R^2 using the test data.\n"
      ]
    },
    {
      "cell_type": "code",
      "execution_count": 25,
      "metadata": {
        "id": "Dz88jscTah6G"
      },
      "outputs": [],
      "source": [
        "from sklearn.linear_model import Ridge"
      ]
    },
    {
      "cell_type": "code",
      "execution_count": 26,
      "metadata": {
        "jupyter": {
          "outputs_hidden": false
        },
        "colab": {
          "base_uri": "https://localhost:8080/"
        },
        "id": "xX2IzvbIah6G",
        "outputId": "1bebcac6-371b-47d2-d1e7-0fdd8355619f"
      },
      "outputs": [
        {
          "output_type": "execute_result",
          "data": {
            "text/plain": [
              "0.6478759163939112"
            ]
          },
          "metadata": {},
          "execution_count": 26
        }
      ],
      "source": [
        "RidgeModel = Ridge(alpha=0.1)\n",
        "RidgeModel.fit(x_train,y_train)\n",
        "yhat = RidgeModel.predict(x_test)\n",
        "RidgeModel.score(x_test,y_test)"
      ]
    },
    {
      "cell_type": "markdown",
      "metadata": {
        "id": "9x4VF1_Hah6G"
      },
      "source": [
        "### Question 10\n",
        "\n",
        "Perform a second order polynomial transform on both the training data and testing data. Create and fit a Ridge regression object using the training data, set the regularisation parameter to 0.1, and calculate the R^2 utilising the test data provided. Take a screenshot of your code and the R^2.\n"
      ]
    },
    {
      "cell_type": "code",
      "execution_count": 27,
      "metadata": {
        "jupyter": {
          "outputs_hidden": false
        },
        "id": "H-JUYLgxah6G"
      },
      "outputs": [],
      "source": [
        "pr=PolynomialFeatures(degree=2)\n",
        "x_train_pr = pr.fit_transform(x_train)\n",
        "x_test_pr = pr.fit_transform(x_test)\n",
        "RidgeModel = Ridge(alpha=0.1)\n",
        "RidgeModel.fit(x_train_pr,y_train)\n",
        "yhat = RidgeModel.predict(x_test_pr)"
      ]
    },
    {
      "cell_type": "markdown",
      "metadata": {
        "id": "QKh9d87vah6G"
      },
      "source": [
        "<h2>About the Authors:</h2>\n",
        "\n",
        "<a href=\"https://www.linkedin.com/in/joseph-s-50398b136/?utm_medium=Exinfluencer&utm_source=Exinfluencer&utm_content=000026UJ&utm_term=10006555&utm_id=NA-SkillsNetwork-Channel-SkillsNetworkCoursesIBMDeveloperSkillsNetworkDA0101ENSkillsNetwork20235326-2022-01-01\">Joseph Santarcangelo</a> has a PhD in Electrical Engineering, his research focused on using machine learning, signal processing, and computer vision to determine how videos impact human cognition. Joseph has been working for IBM since he completed his PhD.\n"
      ]
    },
    {
      "cell_type": "markdown",
      "metadata": {
        "id": "sqJ-OD9sah6G"
      },
      "source": [
        "Other contributors: <a href=\"https://www.linkedin.com/in/michelleccarey/?utm_medium=Exinfluencer&utm_source=Exinfluencer&utm_content=000026UJ&utm_term=10006555&utm_id=NA-SkillsNetwork-Channel-SkillsNetworkCoursesIBMDeveloperSkillsNetworkDA0101ENSkillsNetwork20235326-2022-01-01\">Michelle Carey</a>, <a href=\"https://www.linkedin.com/in/jiahui-mavis-zhou-a4537814a?utm_medium=Exinfluencer&utm_source=Exinfluencer&utm_content=000026UJ&utm_term=10006555&utm_id=NA-SkillsNetwork-Channel-SkillsNetworkCoursesIBMDeveloperSkillsNetworkDA0101ENSkillsNetwork20235326-2022-01-01\">Mavis Zhou</a>\n"
      ]
    },
    {
      "cell_type": "markdown",
      "metadata": {
        "id": "myEXdrznah6G"
      },
      "source": [
        "## Change Log\n",
        "\n",
        "| Date (YYYY-MM-DD) | Version | Changed By      | Change Description                           |\n",
        "| ----------------- | ------- | --------------- | -------------------------------------------- |\n",
        "| 2022-07-29        | 2.3     | Lakshmi Holla | Added library import |\n",
        "| 2020-12-01        | 2.2     | Aije Egwaikhide | Coverted Data describtion from text to table |\n",
        "| 2020-10-06        | 2.1     | Lakshmi Holla   | Changed markdown instruction of Question1    |\n",
        "| 2020-08-27        | 2.0     | Malika Singla   | Added lab to GitLab                          |\n",
        "\n",
        "<hr>\n",
        "\n",
        "## <h3 align=\"center\"> © IBM Corporation 2020. All rights reserved. <h3/>\n",
        "\n",
        "<p>\n"
      ]
    }
  ],
  "metadata": {
    "kernelspec": {
      "display_name": "Python",
      "language": "python",
      "name": "conda-env-python-py"
    },
    "language_info": {
      "name": ""
    },
    "colab": {
      "provenance": [],
      "include_colab_link": true
    }
  },
  "nbformat": 4,
  "nbformat_minor": 0
}